{
  "cells": [
    {
      "cell_type": "markdown",
      "metadata": {
        "id": "view-in-github",
        "colab_type": "text"
      },
      "source": [
        "<a href=\"https://colab.research.google.com/github/Harshvardhan-10/qrng-adversarial-testing/blob/main/xorshift_qrng_cnn.ipynb\" target=\"_parent\"><img src=\"https://colab.research.google.com/assets/colab-badge.svg\" alt=\"Open In Colab\"/></a>"
      ]
    },
    {
      "cell_type": "code",
      "source": [
        "!pip install keras-tuner"
      ],
      "metadata": {
        "colab": {
          "base_uri": "https://localhost:8080/"
        },
        "id": "AiNX25UUFtlj",
        "outputId": "d407415b-9ba1-487e-bcbc-ac12465c57bc"
      },
      "id": "AiNX25UUFtlj",
      "execution_count": null,
      "outputs": [
        {
          "output_type": "stream",
          "name": "stdout",
          "text": [
            "Requirement already satisfied: keras-tuner in /usr/local/lib/python3.12/dist-packages (1.4.7)\n",
            "Requirement already satisfied: keras in /usr/local/lib/python3.12/dist-packages (from keras-tuner) (3.10.0)\n",
            "Requirement already satisfied: packaging in /usr/local/lib/python3.12/dist-packages (from keras-tuner) (25.0)\n",
            "Requirement already satisfied: requests in /usr/local/lib/python3.12/dist-packages (from keras-tuner) (2.32.4)\n",
            "Requirement already satisfied: kt-legacy in /usr/local/lib/python3.12/dist-packages (from keras-tuner) (1.0.5)\n",
            "Requirement already satisfied: absl-py in /usr/local/lib/python3.12/dist-packages (from keras->keras-tuner) (1.4.0)\n",
            "Requirement already satisfied: numpy in /usr/local/lib/python3.12/dist-packages (from keras->keras-tuner) (2.0.2)\n",
            "Requirement already satisfied: rich in /usr/local/lib/python3.12/dist-packages (from keras->keras-tuner) (13.9.4)\n",
            "Requirement already satisfied: namex in /usr/local/lib/python3.12/dist-packages (from keras->keras-tuner) (0.1.0)\n",
            "Requirement already satisfied: h5py in /usr/local/lib/python3.12/dist-packages (from keras->keras-tuner) (3.14.0)\n",
            "Requirement already satisfied: optree in /usr/local/lib/python3.12/dist-packages (from keras->keras-tuner) (0.17.0)\n",
            "Requirement already satisfied: ml-dtypes in /usr/local/lib/python3.12/dist-packages (from keras->keras-tuner) (0.5.3)\n",
            "Requirement already satisfied: charset_normalizer<4,>=2 in /usr/local/lib/python3.12/dist-packages (from requests->keras-tuner) (3.4.3)\n",
            "Requirement already satisfied: idna<4,>=2.5 in /usr/local/lib/python3.12/dist-packages (from requests->keras-tuner) (3.10)\n",
            "Requirement already satisfied: urllib3<3,>=1.21.1 in /usr/local/lib/python3.12/dist-packages (from requests->keras-tuner) (2.5.0)\n",
            "Requirement already satisfied: certifi>=2017.4.17 in /usr/local/lib/python3.12/dist-packages (from requests->keras-tuner) (2025.8.3)\n",
            "Requirement already satisfied: typing-extensions>=4.6.0 in /usr/local/lib/python3.12/dist-packages (from optree->keras->keras-tuner) (4.15.0)\n",
            "Requirement already satisfied: markdown-it-py>=2.2.0 in /usr/local/lib/python3.12/dist-packages (from rich->keras->keras-tuner) (4.0.0)\n",
            "Requirement already satisfied: pygments<3.0.0,>=2.13.0 in /usr/local/lib/python3.12/dist-packages (from rich->keras->keras-tuner) (2.19.2)\n",
            "Requirement already satisfied: mdurl~=0.1 in /usr/local/lib/python3.12/dist-packages (from markdown-it-py>=2.2.0->rich->keras->keras-tuner) (0.1.2)\n"
          ]
        }
      ]
    },
    {
      "cell_type": "code",
      "execution_count": null,
      "id": "6af67f84",
      "metadata": {
        "id": "6af67f84"
      },
      "outputs": [],
      "source": [
        "import numpy as np\n",
        "import tensorflow as tf\n",
        "import keras_tuner as kt\n",
        "from tensorflow import keras\n",
        "from tensorflow.keras.models import Sequential\n",
        "from tensorflow.keras.layers import Dense\n",
        "import datetime\n",
        "import pandas as pd"
      ]
    },
    {
      "cell_type": "markdown",
      "metadata": {
        "id": "bb64aa08"
      },
      "source": [
        "## Extract training history for loaded model"
      ],
      "id": "bb64aa08"
    },
    {
      "cell_type": "code",
      "metadata": {
        "colab": {
          "base_uri": "https://localhost:8080/",
          "height": 141
        },
        "id": "580b55a1",
        "outputId": "5360ae8c-a250-4fe6-c966-2e5801af735c"
      },
      "source": [
        "history_loaded = loaded_model.history"
      ],
      "id": "580b55a1",
      "execution_count": null,
      "outputs": [
        {
          "output_type": "error",
          "ename": "AttributeError",
          "evalue": "'Sequential' object has no attribute 'history'",
          "traceback": [
            "\u001b[0;31m---------------------------------------------------------------------------\u001b[0m",
            "\u001b[0;31mAttributeError\u001b[0m                            Traceback (most recent call last)",
            "\u001b[0;32m/tmp/ipython-input-4294217901.py\u001b[0m in \u001b[0;36m<cell line: 0>\u001b[0;34m()\u001b[0m\n\u001b[0;32m----> 1\u001b[0;31m \u001b[0mhistory_loaded\u001b[0m \u001b[0;34m=\u001b[0m \u001b[0mloaded_model\u001b[0m\u001b[0;34m.\u001b[0m\u001b[0mhistory\u001b[0m\u001b[0;34m\u001b[0m\u001b[0;34m\u001b[0m\u001b[0m\n\u001b[0m",
            "\u001b[0;31mAttributeError\u001b[0m: 'Sequential' object has no attribute 'history'"
          ]
        }
      ]
    },
    {
      "cell_type": "markdown",
      "metadata": {
        "id": "6561642b"
      },
      "source": [
        "## Plot accuracy for loaded model"
      ],
      "id": "6561642b"
    },
    {
      "cell_type": "code",
      "metadata": {
        "id": "01c7e0c1"
      },
      "source": [
        "import matplotlib.pyplot as plt\n",
        "\n",
        "# Extract accuracy values\n",
        "train_accuracy_loaded = history_loaded.history['binary_accuracy']\n",
        "val_accuracy_loaded = history_loaded.history['val_binary_accuracy']\n",
        "\n",
        "# Plot training and validation accuracy\n",
        "plt.figure(figsize=(10, 6))\n",
        "plt.plot(train_accuracy_loaded, label='Training Accuracy')\n",
        "plt.plot(val_accuracy_loaded, label='Validation Accuracy')\n",
        "plt.title('Loaded Model Accuracy over Epochs')\n",
        "plt.xlabel('Epoch')\n",
        "plt.ylabel('Accuracy')\n",
        "plt.legend()\n",
        "plt.show()"
      ],
      "id": "01c7e0c1",
      "execution_count": null,
      "outputs": []
    },
    {
      "cell_type": "markdown",
      "metadata": {
        "id": "21eee443"
      },
      "source": [
        "## Make predictions with loaded model"
      ],
      "id": "21eee443"
    },
    {
      "cell_type": "code",
      "metadata": {
        "colab": {
          "base_uri": "https://localhost:8080/"
        },
        "id": "1e9ff7d0",
        "outputId": "3b6b02c1-e46e-485d-d0c2-0013f0d6913b"
      },
      "source": [
        "y_pred_loaded = loaded_model.predict(X_test)"
      ],
      "id": "1e9ff7d0",
      "execution_count": null,
      "outputs": [
        {
          "output_type": "stream",
          "name": "stdout",
          "text": [
            "\u001b[1m313/313\u001b[0m \u001b[32m━━━━━━━━━━━━━━━━━━━━\u001b[0m\u001b[37m\u001b[0m \u001b[1m1s\u001b[0m 2ms/step\n"
          ]
        }
      ]
    },
    {
      "cell_type": "markdown",
      "metadata": {
        "id": "40f7f8d7"
      },
      "source": [
        "## Compare loaded model predictions to actuals"
      ],
      "id": "40f7f8d7"
    },
    {
      "cell_type": "code",
      "metadata": {
        "colab": {
          "base_uri": "https://localhost:8080/"
        },
        "id": "9c3bcf49",
        "outputId": "411c05c4-8bc1-4983-b57a-333a4e79fbab"
      },
      "source": [
        "y_pred_binary_loaded = (y_pred_loaded > 0.5).astype(int)\n",
        "print(\"Shape of loaded model binary predictions:\", y_pred_binary_loaded.shape)\n",
        "print(\"Shape of actual test labels:\", y_test.shape)"
      ],
      "id": "9c3bcf49",
      "execution_count": null,
      "outputs": [
        {
          "output_type": "stream",
          "name": "stdout",
          "text": [
            "Shape of loaded model binary predictions: (10000, 32)\n",
            "Shape of actual test labels: (10000, 32)\n"
          ]
        }
      ]
    },
    {
      "cell_type": "markdown",
      "metadata": {
        "id": "66be1419"
      },
      "source": [
        "## Calculate bit-wise accuracy for loaded model"
      ],
      "id": "66be1419"
    },
    {
      "cell_type": "code",
      "metadata": {
        "colab": {
          "base_uri": "https://localhost:8080/"
        },
        "id": "bda57fed",
        "outputId": "b22b2acd-0e19-48b8-fe77-ce1591110a7f"
      },
      "source": [
        "correct_predictions_per_bit_loaded = np.sum(y_pred_binary_loaded == y_test, axis=0)\n",
        "bit_wise_accuracy_loaded = correct_predictions_per_bit_loaded / y_test.shape[0]\n",
        "print(\"Loaded model bit-wise accuracy:\", bit_wise_accuracy_loaded)"
      ],
      "id": "bda57fed",
      "execution_count": null,
      "outputs": [
        {
          "output_type": "stream",
          "name": "stdout",
          "text": [
            "Loaded model bit-wise accuracy: [1.     0.9999 1.     1.     1.     1.     1.     1.     1.     1.\n",
            " 1.     1.     0.681  1.     1.     1.     1.     1.     1.     1.\n",
            " 1.     1.     1.     1.     1.     1.     1.     1.     1.     1.\n",
            " 1.     1.    ]\n"
          ]
        }
      ]
    },
    {
      "cell_type": "code",
      "source": [
        "import seaborn as sns\n",
        "import matplotlib.pyplot as plt\n",
        "\n",
        "plt.figure(figsize=(12, 2))\n",
        "sns.heatmap(bit_wise_accuracy_loaded.reshape(1, -1), annot=True, cmap='viridis', fmt=\".4f\", yticklabels=False, annot_kws={'rotation': 90})\n",
        "plt.title('Bit-wise Accuracy Heatmap')\n",
        "plt.xlabel('Bit Position')\n",
        "plt.show()"
      ],
      "metadata": {
        "colab": {
          "base_uri": "https://localhost:8080/",
          "height": 209
        },
        "id": "XuJlzJg3_mEN",
        "outputId": "d86afe0d-7d2b-495b-f04a-d3e5b15636d1"
      },
      "id": "XuJlzJg3_mEN",
      "execution_count": null,
      "outputs": [
        {
          "output_type": "display_data",
          "data": {
            "text/plain": [
              "<Figure size 1200x200 with 2 Axes>"
            ],
            "image/png": "[encoded data removed]"
          },
          "metadata": {}
        }
      ]
    },
    {
      "cell_type": "markdown",
      "metadata": {
        "id": "8793d6ba"
      },
      "source": [
        "## Display bit-wise accuracy for loaded model"
      ],
      "id": "8793d6ba"
    },
    {
      "cell_type": "code",
      "metadata": {
        "colab": {
          "base_uri": "https://localhost:8080/",
          "height": 1000
        },
        "id": "a7d00281",
        "outputId": "532857f5-4d32-43fc-891f-bec5768a36b7"
      },
      "source": [
        "bit_accuracy_df_loaded = pd.DataFrame({\n",
        "    'Bit Position': np.arange(BIT_WIDTH),\n",
        "    'Accuracy': bit_wise_accuracy_loaded\n",
        "})\n",
        "display(bit_accuracy_df_loaded)"
      ],
      "id": "a7d00281",
      "execution_count": null,
      "outputs": [
        {
          "output_type": "display_data",
          "data": {
            "text/plain": [
              "    Bit Position  Accuracy\n",
              "0              0    1.0000\n",
              "1              1    0.9999\n",
              "2              2    1.0000\n",
              "3              3    1.0000\n",
              "4              4    1.0000\n",
              "5              5    1.0000\n",
              "6              6    1.0000\n",
              "7              7    1.0000\n",
              "8              8    1.0000\n",
              "9              9    1.0000\n",
              "10            10    1.0000\n",
              "11            11    1.0000\n",
              "12            12    0.6810\n",
              "13            13    1.0000\n",
              "14            14    1.0000\n",
              "15            15    1.0000\n",
              "16            16    1.0000\n",
              "17            17    1.0000\n",
              "18            18    1.0000\n",
              "19            19    1.0000\n",
              "20            20    1.0000\n",
              "21            21    1.0000\n",
              "22            22    1.0000\n",
              "23            23    1.0000\n",
              "24            24    1.0000\n",
              "25            25    1.0000\n",
              "26            26    1.0000\n",
              "27            27    1.0000\n",
              "28            28    1.0000\n",
              "29            29    1.0000\n",
              "30            30    1.0000\n",
              "31            31    1.0000"
            ],
            "text/html": [
              "\n",
              "  <div id=\"df-29208435-8586-468c-b834-7f1221b6c2b7\" class=\"colab-df-container\">\n",
              "    <div>\n",
              "<style scoped>\n",
              "    .dataframe tbody tr th:only-of-type {\n",
              "        vertical-align: middle;\n",
              "    }\n",
              "\n",
              "    .dataframe tbody tr th {\n",
              "        vertical-align: top;\n",
              "    }\n",
              "\n",
              "    .dataframe thead th {\n",
              "        text-align: right;\n",
              "    }\n",
              "</style>\n",
              "<table border=\"1\" class=\"dataframe\">\n",
              "  <thead>\n",
              "    <tr style=\"text-align: right;\">\n",
              "      <th></th>\n",
              "      <th>Bit Position</th>\n",
              "      <th>Accuracy</th>\n",
              "    </tr>\n",
              "  </thead>\n",
              "  <tbody>\n",
              "    <tr>\n",
              "      <th>0</th>\n",
              "      <td>0</td>\n",
              "      <td>1.0000</td>\n",
              "    </tr>\n",
              "    <tr>\n",
              "      <th>1</th>\n",
              "      <td>1</td>\n",
              "      <td>0.9999</td>\n",
              "    </tr>\n",
              "    <tr>\n",
              "      <th>2</th>\n",
              "      <td>2</td>\n",
              "      <td>1.0000</td>\n",
              "    </tr>\n",
              "    <tr>\n",
              "      <th>3</th>\n",
              "      <td>3</td>\n",
              "      <td>1.0000</td>\n",
              "    </tr>\n",
              "    <tr>\n",
              "      <th>4</th>\n",
              "      <td>4</td>\n",
              "      <td>1.0000</td>\n",
              "    </tr>\n",
              "    <tr>\n",
              "      <th>5</th>\n",
              "      <td>5</td>\n",
              "      <td>1.0000</td>\n",
              "    </tr>\n",
              "    <tr>\n",
              "      <th>6</th>\n",
              "      <td>6</td>\n",
              "      <td>1.0000</td>\n",
              "    </tr>\n",
              "    <tr>\n",
              "      <th>7</th>\n",
              "      <td>7</td>\n",
              "      <td>1.0000</td>\n",
              "    </tr>\n",
              "    <tr>\n",
              "      <th>8</th>\n",
              "      <td>8</td>\n",
              "      <td>1.0000</td>\n",
              "    </tr>\n",
              "    <tr>\n",
              "      <th>9</th>\n",
              "      <td>9</td>\n",
              "      <td>1.0000</td>\n",
              "    </tr>\n",
              "    <tr>\n",
              "      <th>10</th>\n",
              "      <td>10</td>\n",
              "      <td>1.0000</td>\n",
              "    </tr>\n",
              "    <tr>\n",
              "      <th>11</th>\n",
              "      <td>11</td>\n",
              "      <td>1.0000</td>\n",
              "    </tr>\n",
              "    <tr>\n",
              "      <th>12</th>\n",
              "      <td>12</td>\n",
              "      <td>0.6810</td>\n",
              "    </tr>\n",
              "    <tr>\n",
              "      <th>13</th>\n",
              "      <td>13</td>\n",
              "      <td>1.0000</td>\n",
              "    </tr>\n",
              "    <tr>\n",
              "      <th>14</th>\n",
              "      <td>14</td>\n",
              "      <td>1.0000</td>\n",
              "    </tr>\n",
              "    <tr>\n",
              "      <th>15</th>\n",
              "      <td>15</td>\n",
              "      <td>1.0000</td>\n",
              "    </tr>\n",
              "    <tr>\n",
              "      <th>16</th>\n",
              "      <td>16</td>\n",
              "      <td>1.0000</td>\n",
              "    </tr>\n",
              "    <tr>\n",
              "      <th>17</th>\n",
              "      <td>17</td>\n",
              "      <td>1.0000</td>\n",
              "    </tr>\n",
              "    <tr>\n",
              "      <th>18</th>\n",
              "      <td>18</td>\n",
              "      <td>1.0000</td>\n",
              "    </tr>\n",
              "    <tr>\n",
              "      <th>19</th>\n",
              "      <td>19</td>\n",
              "      <td>1.0000</td>\n",
              "    </tr>\n",
              "    <tr>\n",
              "      <th>20</th>\n",
              "      <td>20</td>\n",
              "      <td>1.0000</td>\n",
              "    </tr>\n",
              "    <tr>\n",
              "      <th>21</th>\n",
              "      <td>21</td>\n",
              "      <td>1.0000</td>\n",
              "    </tr>\n",
              "    <tr>\n",
              "      <th>22</th>\n",
              "      <td>22</td>\n",
              "      <td>1.0000</td>\n",
              "    </tr>\n",
              "    <tr>\n",
              "      <th>23</th>\n",
              "      <td>23</td>\n",
              "      <td>1.0000</td>\n",
              "    </tr>\n",
              "    <tr>\n",
              "      <th>24</th>\n",
              "      <td>24</td>\n",
              "      <td>1.0000</td>\n",
              "    </tr>\n",
              "    <tr>\n",
              "      <th>25</th>\n",
              "      <td>25</td>\n",
              "      <td>1.0000</td>\n",
              "    </tr>\n",
              "    <tr>\n",
              "      <th>26</th>\n",
              "      <td>26</td>\n",
              "      <td>1.0000</td>\n",
              "    </tr>\n",
              "    <tr>\n",
              "      <th>27</th>\n",
              "      <td>27</td>\n",
              "      <td>1.0000</td>\n",
              "    </tr>\n",
              "    <tr>\n",
              "      <th>28</th>\n",
              "      <td>28</td>\n",
              "      <td>1.0000</td>\n",
              "    </tr>\n",
              "    <tr>\n",
              "      <th>29</th>\n",
              "      <td>29</td>\n",
              "      <td>1.0000</td>\n",
              "    </tr>\n",
              "    <tr>\n",
              "      <th>30</th>\n",
              "      <td>30</td>\n",
              "      <td>1.0000</td>\n",
              "    </tr>\n",
              "    <tr>\n",
              "      <th>31</th>\n",
              "      <td>31</td>\n",
              "      <td>1.0000</td>\n",
              "    </tr>\n",
              "  </tbody>\n",
              "</table>\n",
              "</div>\n",
              "    <div class=\"colab-df-buttons\">\n",
              "\n",
              "  <div class=\"colab-df-container\">\n",
              "    <button class=\"colab-df-convert\" onclick=\"convertToInteractive('df-29208435-8586-468c-b834-7f1221b6c2b7')\"\n",
              "            title=\"Convert this dataframe to an interactive table.\"\n",
              "            style=\"display:none;\">\n",
              "\n",
              "  <svg xmlns=\"http://www.w3.org/2000/svg\" height=\"24px\" viewBox=\"0 -960 960 960\">\n",
              "    <path d=\"M120-120v-720h720v720H120Zm60-500h600v-160H180v160Zm220 220h160v-160H400v160Zm0 220h160v-160H400v160ZM180-400h160v-160H180v160Zm440 0h160v-160H620v160ZM180-180h160v-160H180v160Zm440 0h160v-160H620v160Z\"/>\n",
              "  </svg>\n",
              "    </button>\n",
              "\n",
              "  <style>\n",
              "    .colab-df-container {\n",
              "      display:flex;\n",
              "      gap: 12px;\n",
              "    }\n",
              "\n",
              "    .colab-df-convert {\n",
              "      background-color: #E8F0FE;\n",
              "      border: none;\n",
              "      border-radius: 50%;\n",
              "      cursor: pointer;\n",
              "      display: none;\n",
              "      fill: #1967D2;\n",
              "      height: 32px;\n",
              "      padding: 0 0 0 0;\n",
              "      width: 32px;\n",
              "    }\n",
              "\n",
              "    .colab-df-convert:hover {\n",
              "      background-color: #E2EBFA;\n",
              "      box-shadow: 0px 1px 2px rgba(60, 64, 67, 0.3), 0px 1px 3px 1px rgba(60, 64, 67, 0.15);\n",
              "      fill: #174EA6;\n",
              "    }\n",
              "\n",
              "    .colab-df-buttons div {\n",
              "      margin-bottom: 4px;\n",
              "    }\n",
              "\n",
              "    [theme=dark] .colab-df-convert {\n",
              "      background-color: #3B4455;\n",
              "      fill: #D2E3FC;\n",
              "    }\n",
              "\n",
              "    [theme=dark] .colab-df-convert:hover {\n",
              "      background-color: #434B5C;\n",
              "      box-shadow: 0px 1px 3px 1px rgba(0, 0, 0, 0.15);\n",
              "      filter: drop-shadow(0px 1px 2px rgba(0, 0, 0, 0.3));\n",
              "      fill: #FFFFFF;\n",
              "    }\n",
              "  </style>\n",
              "\n",
              "    <script>\n",
              "      const buttonEl =\n",
              "        document.querySelector('#df-29208435-8586-468c-b834-7f1221b6c2b7 button.colab-df-convert');\n",
              "      buttonEl.style.display =\n",
              "        google.colab.kernel.accessAllowed ? 'block' : 'none';\n",
              "\n",
              "      async function convertToInteractive(key) {\n",
              "        const element = document.querySelector('#df-29208435-8586-468c-b834-7f1221b6c2b7');\n",
              "        const dataTable =\n",
              "          await google.colab.kernel.invokeFunction('convertToInteractive',\n",
              "                                                    [key], {});\n",
              "        if (!dataTable) return;\n",
              "\n",
              "        const docLinkHtml = 'Like what you see? Visit the ' +\n",
              "          '<a target=\"_blank\" href=https://colab.research.google.com/notebooks/data_table.ipynb>data table notebook</a>'\n",
              "          + ' to learn more about interactive tables.';\n",
              "        element.innerHTML = '';\n",
              "        dataTable['output_type'] = 'display_data';\n",
              "        await google.colab.output.renderOutput(dataTable, element);\n",
              "        const docLink = document.createElement('div');\n",
              "        docLink.innerHTML = docLinkHtml;\n",
              "        element.appendChild(docLink);\n",
              "      }\n",
              "    </script>\n",
              "  </div>\n",
              "\n",
              "\n",
              "    <div id=\"df-23771747-4e61-437d-878a-8b44c46168be\">\n",
              "      <button class=\"colab-df-quickchart\" onclick=\"quickchart('df-23771747-4e61-437d-878a-8b44c46168be')\"\n",
              "                title=\"Suggest charts\"\n",
              "                style=\"display:none;\">\n",
              "\n",
              "<svg xmlns=\"http://www.w3.org/2000/svg\" height=\"24px\"viewBox=\"0 0 24 24\"\n",
              "     width=\"24px\">\n",
              "    <g>\n",
              "        <path d=\"M19 3H5c-1.1 0-2 .9-2 2v14c0 1.1.9 2 2 2h14c1.1 0 2-.9 2-2V5c0-1.1-.9-2-2-2zM9 17H7v-7h2v7zm4 0h-2V7h2v10zm4 0h-2v-4h2v4z\"/>\n",
              "    </g>\n",
              "</svg>\n",
              "      </button>\n",
              "\n",
              "<style>\n",
              "  .colab-df-quickchart {\n",
              "      --bg-color: #E8F0FE;\n",
              "      --fill-color: #1967D2;\n",
              "      --hover-bg-color: #E2EBFA;\n",
              "      --hover-fill-color: #174EA6;\n",
              "      --disabled-fill-color: #AAA;\n",
              "      --disabled-bg-color: #DDD;\n",
              "  }\n",
              "\n",
              "  [theme=dark] .colab-df-quickchart {\n",
              "      --bg-color: #3B4455;\n",
              "      --fill-color: #D2E3FC;\n",
              "      --hover-bg-color: #434B5C;\n",
              "      --hover-fill-color: #FFFFFF;\n",
              "      --disabled-bg-color: #3B4455;\n",
              "      --disabled-fill-color: #666;\n",
              "  }\n",
              "\n",
              "  .colab-df-quickchart {\n",
              "    background-color: var(--bg-color);\n",
              "    border: none;\n",
              "    border-radius: 50%;\n",
              "    cursor: pointer;\n",
              "    display: none;\n",
              "    fill: var(--fill-color);\n",
              "    height: 32px;\n",
              "    padding: 0;\n",
              "    width: 32px;\n",
              "  }\n",
              "\n",
              "  .colab-df-quickchart:hover {\n",
              "    background-color: var(--hover-bg-color);\n",
              "    box-shadow: 0 1px 2px rgba(60, 64, 67, 0.3), 0 1px 3px 1px rgba(60, 64, 67, 0.15);\n",
              "    fill: var(--button-hover-fill-color);\n",
              "  }\n",
              "\n",
              "  .colab-df-quickchart-complete:disabled,\n",
              "  .colab-df-quickchart-complete:disabled:hover {\n",
              "    background-color: var(--disabled-bg-color);\n",
              "    fill: var(--disabled-fill-color);\n",
              "    box-shadow: none;\n",
              "  }\n",
              "\n",
              "  .colab-df-spinner {\n",
              "    border: 2px solid var(--fill-color);\n",
              "    border-color: transparent;\n",
              "    border-bottom-color: var(--fill-color);\n",
              "    animation:\n",
              "      spin 1s steps(1) infinite;\n",
              "  }\n",
              "\n",
              "  @keyframes spin {\n",
              "    0% {\n",
              "      border-color: transparent;\n",
              "      border-bottom-color: var(--fill-color);\n",
              "      border-left-color: var(--fill-color);\n",
              "    }\n",
              "    20% {\n",
              "      border-color: transparent;\n",
              "      border-left-color: var(--fill-color);\n",
              "      border-top-color: var(--fill-color);\n",
              "    }\n",
              "    30% {\n",
              "      border-color: transparent;\n",
              "      border-left-color: var(--fill-color);\n",
              "      border-top-color: var(--fill-color);\n",
              "      border-right-color: var(--fill-color);\n",
              "    }\n",
              "    40% {\n",
              "      border-color: transparent;\n",
              "      border-right-color: var(--fill-color);\n",
              "      border-top-color: var(--fill-color);\n",
              "    }\n",
              "    60% {\n",
              "      border-color: transparent;\n",
              "      border-right-color: var(--fill-color);\n",
              "    }\n",
              "    80% {\n",
              "      border-color: transparent;\n",
              "      border-right-color: var(--fill-color);\n",
              "      border-bottom-color: var(--fill-color);\n",
              "    }\n",
              "    90% {\n",
              "      border-color: transparent;\n",
              "      border-bottom-color: var(--fill-color);\n",
              "    }\n",
              "  }\n",
              "</style>\n",
              "\n",
              "      <script>\n",
              "        async function quickchart(key) {\n",
              "          const quickchartButtonEl =\n",
              "            document.querySelector('#' + key + ' button');\n",
              "          quickchartButtonEl.disabled = true;  // To prevent multiple clicks.\n",
              "          quickchartButtonEl.classList.add('colab-df-spinner');\n",
              "          try {\n",
              "            const charts = await google.colab.kernel.invokeFunction(\n",
              "                'suggestCharts', [key], {});\n",
              "          } catch (error) {\n",
              "            console.error('Error during call to suggestCharts:', error);\n",
              "          }\n",
              "          quickchartButtonEl.classList.remove('colab-df-spinner');\n",
              "          quickchartButtonEl.classList.add('colab-df-quickchart-complete');\n",
              "        }\n",
              "        (() => {\n",
              "          let quickchartButtonEl =\n",
              "            document.querySelector('#df-23771747-4e61-437d-878a-8b44c46168be button');\n",
              "          quickchartButtonEl.style.display =\n",
              "            google.colab.kernel.accessAllowed ? 'block' : 'none';\n",
              "        })();\n",
              "      </script>\n",
              "    </div>\n",
              "\n",
              "  <div id=\"id_9d65a053-505a-42e4-83e4-d3ff1f032375\">\n",
              "    <style>\n",
              "      .colab-df-generate {\n",
              "        background-color: #E8F0FE;\n",
              "        border: none;\n",
              "        border-radius: 50%;\n",
              "        cursor: pointer;\n",
              "        display: none;\n",
              "        fill: #1967D2;\n",
              "        height: 32px;\n",
              "        padding: 0 0 0 0;\n",
              "        width: 32px;\n",
              "      }\n",
              "\n",
              "      .colab-df-generate:hover {\n",
              "        background-color: #E2EBFA;\n",
              "        box-shadow: 0px 1px 2px rgba(60, 64, 67, 0.3), 0px 1px 3px 1px rgba(60, 64, 67, 0.15);\n",
              "        fill: #174EA6;\n",
              "      }\n",
              "\n",
              "      [theme=dark] .colab-df-generate {\n",
              "        background-color: #3B4455;\n",
              "        fill: #D2E3FC;\n",
              "      }\n",
              "\n",
              "      [theme=dark] .colab-df-generate:hover {\n",
              "        background-color: #434B5C;\n",
              "        box-shadow: 0px 1px 3px 1px rgba(0, 0, 0, 0.15);\n",
              "        filter: drop-shadow(0px 1px 2px rgba(0, 0, 0, 0.3));\n",
              "        fill: #FFFFFF;\n",
              "      }\n",
              "    </style>\n",
              "    <button class=\"colab-df-generate\" onclick=\"generateWithVariable('bit_accuracy_df_loaded')\"\n",
              "            title=\"Generate code using this dataframe.\"\n",
              "            style=\"display:none;\">\n",
              "\n",
              "  <svg xmlns=\"http://www.w3.org/2000/svg\" height=\"24px\"viewBox=\"0 0 24 24\"\n",
              "       width=\"24px\">\n",
              "    <path d=\"M7,19H8.4L18.45,9,17,7.55,7,17.6ZM5,21V16.75L18.45,3.32a2,2,0,0,1,2.83,0l1.4,1.43a1.91,1.91,0,0,1,.58,1.4,1.91,1.91,0,0,1-.58,1.4L9.25,21ZM18.45,9,17,7.55Zm-12,3A5.31,5.31,0,0,0,4.9,8.1,5.31,5.31,0,0,0,1,6.5,5.31,5.31,0,0,0,4.9,4.9,5.31,5.31,0,0,0,6.5,1,5.31,5.31,0,0,0,8.1,4.9,5.31,5.31,0,0,0,12,6.5,5.46,5.46,0,0,0,6.5,12Z\"/>\n",
              "  </svg>\n",
              "    </button>\n",
              "    <script>\n",
              "      (() => {\n",
              "      const buttonEl =\n",
              "        document.querySelector('#id_9d65a053-505a-42e4-83e4-d3ff1f032375 button.colab-df-generate');\n",
              "      buttonEl.style.display =\n",
              "        google.colab.kernel.accessAllowed ? 'block' : 'none';\n",
              "\n",
              "      buttonEl.onclick = () => {\n",
              "        google.colab.notebook.generateWithVariable('bit_accuracy_df_loaded');\n",
              "      }\n",
              "      })();\n",
              "    </script>\n",
              "  </div>\n",
              "\n",
              "    </div>\n",
              "  </div>\n"
            ],
            "application/vnd.google.colaboratory.intrinsic+json": {
              "type": "dataframe",
              "variable_name": "bit_accuracy_df_loaded",
              "summary": "{\n  \"name\": \"bit_accuracy_df_loaded\",\n  \"rows\": 32,\n  \"fields\": [\n    {\n      \"column\": \"Bit Position\",\n      \"properties\": {\n        \"dtype\": \"number\",\n        \"std\": 9,\n        \"min\": 0,\n        \"max\": 31,\n        \"num_unique_values\": 32,\n        \"samples\": [\n          29,\n          15,\n          24\n        ],\n        \"semantic_type\": \"\",\n        \"description\": \"\"\n      }\n    },\n    {\n      \"column\": \"Accuracy\",\n      \"properties\": {\n        \"dtype\": \"number\",\n        \"std\": 0.056391198320162234,\n        \"min\": 0.681,\n        \"max\": 1.0,\n        \"num_unique_values\": 3,\n        \"samples\": [\n          1.0,\n          0.9999,\n          0.681\n        ],\n        \"semantic_type\": \"\",\n        \"description\": \"\"\n      }\n    }\n  ]\n}"
            }
          },
          "metadata": {}
        }
      ]
    },
    {
      "cell_type": "markdown",
      "source": [
        "# B"
      ],
      "metadata": {
        "id": "3v7TbUOB-tqq"
      },
      "id": "3v7TbUOB-tqq"
    },
    {
      "cell_type": "code",
      "execution_count": null,
      "id": "093365cb",
      "metadata": {
        "colab": {
          "base_uri": "https://localhost:8080/"
        },
        "id": "093365cb",
        "outputId": "b631fc1b-7438-4b44-a58e-4459364ee95f"
      },
      "outputs": [
        {
          "output_type": "stream",
          "name": "stdout",
          "text": [
            "[PhysicalDevice(name='/physical_device:GPU:0', device_type='GPU')]\n"
          ]
        }
      ],
      "source": [
        "print(tf.config.list_physical_devices('GPU'))"
      ]
    },
    {
      "cell_type": "markdown",
      "source": [
        "# XORshift"
      ],
      "metadata": {
        "id": "N99KOgG7VsuI"
      },
      "id": "N99KOgG7VsuI"
    },
    {
      "cell_type": "code",
      "execution_count": null,
      "id": "98aefb73",
      "metadata": {
        "id": "98aefb73"
      },
      "outputs": [],
      "source": [
        "IMPORT_COUNT = 1990000\n",
        "TEST_COUNT = 10000"
      ]
    },
    {
      "cell_type": "code",
      "execution_count": null,
      "id": "243d4adb",
      "metadata": {
        "colab": {
          "base_uri": "https://localhost:8080/"
        },
        "id": "243d4adb",
        "outputId": "1d5aeb8e-a7e5-4e0f-9069-e57988aabbc1"
      },
      "outputs": [
        {
          "output_type": "stream",
          "name": "stdout",
          "text": [
            "Random seed is: 71926\n"
          ]
        }
      ],
      "source": [
        "# Generate random seed\n",
        "#myrand=np.random.randint(1, 99999 + 1)\n",
        "myrand=71926\n",
        "np.random.seed(myrand)\n",
        "tf.random.set_seed(myrand)\n",
        "print(\"Random seed is:\",myrand)"
      ]
    },
    {
      "cell_type": "code",
      "execution_count": null,
      "id": "15a6825b",
      "metadata": {
        "id": "15a6825b"
      },
      "outputs": [],
      "source": [
        "PREVIOUS_TIMESTEP_COUNT = 4\n",
        "TOTAL_DATA_NUM = IMPORT_COUNT-PREVIOUS_TIMESTEP_COUNT"
      ]
    },
    {
      "cell_type": "code",
      "execution_count": null,
      "id": "8ccacecd",
      "metadata": {
        "id": "8ccacecd"
      },
      "outputs": [],
      "source": [
        "# convert the sequence of generated numbers to 4 inputs and one output\n",
        "def strided(a, L):\n",
        "\tshp = a.shape\n",
        "\ts  = a.strides\n",
        "\tnd0 = shp[0]-L+1\n",
        "\tshp_in = (nd0,L)+shp[1:]\n",
        "\tstrd_in = (s[0],) + s\n",
        "\treturn np.lib.stride_tricks.as_strided(a, shape=shp_in, strides=strd_in)"
      ]
    },
    {
      "cell_type": "code",
      "execution_count": null,
      "id": "247dd26e",
      "metadata": {
        "id": "247dd26e"
      },
      "outputs": [],
      "source": [
        "RNG_OUTPUT_FILENAME=\"xorshift128.txt\"\n",
        "df = np.genfromtxt(RNG_OUTPUT_FILENAME,delimiter='\\n',dtype='uint64')[:IMPORT_COUNT]"
      ]
    },
    {
      "cell_type": "code",
      "execution_count": null,
      "id": "6c577132",
      "metadata": {
        "id": "6c577132"
      },
      "outputs": [],
      "source": [
        "# calculates how many bits are in the output.\n",
        "BIT_WIDTH = np.ceil(np.log2(np.amax(df))).astype(int)"
      ]
    },
    {
      "cell_type": "code",
      "source": [
        "print(BIT_WIDTH)"
      ],
      "metadata": {
        "colab": {
          "base_uri": "https://localhost:8080/"
        },
        "id": "BE3brXGJOiaX",
        "outputId": "daa64a17-704c-478d-a5ef-ce5412930296"
      },
      "id": "BE3brXGJOiaX",
      "execution_count": null,
      "outputs": [
        {
          "output_type": "stream",
          "name": "stdout",
          "text": [
            "32\n"
          ]
        }
      ]
    },
    {
      "cell_type": "code",
      "source": [
        "print(df.shape)"
      ],
      "metadata": {
        "colab": {
          "base_uri": "https://localhost:8080/"
        },
        "id": "GI-g4MoFP5IA",
        "outputId": "5fded166-30a3-47c6-96c7-80706ab86d59"
      },
      "id": "GI-g4MoFP5IA",
      "execution_count": null,
      "outputs": [
        {
          "output_type": "stream",
          "name": "stdout",
          "text": [
            "(1990000,)\n"
          ]
        }
      ]
    },
    {
      "cell_type": "code",
      "execution_count": null,
      "id": "de337845",
      "metadata": {
        "id": "de337845"
      },
      "outputs": [],
      "source": [
        "# convert the generated numbers to binary sequences\n",
        "df_as_bits =(df[:,None] & (1 << np.arange(BIT_WIDTH,dtype='uint64')) > 0).astype(int)\n",
        "df_as_frames = strided(df_as_bits, PREVIOUS_TIMESTEP_COUNT+1)"
      ]
    },
    {
      "cell_type": "code",
      "source": [
        "print(df_as_bits[0])\n",
        "print(df_as_frames[0])"
      ],
      "metadata": {
        "colab": {
          "base_uri": "https://localhost:8080/"
        },
        "id": "AL58PhrIPLJA",
        "outputId": "0bf79754-e925-4eff-84e6-4a424baabb33"
      },
      "id": "AL58PhrIPLJA",
      "execution_count": null,
      "outputs": [
        {
          "output_type": "stream",
          "name": "stdout",
          "text": [
            "[0 1 0 1 0 1 1 1 1 0 1 0 0 0 1 0 1 1 0 0 0 1 0 1 0 0 1 1 1 0 1 1]\n",
            "[[0 1 0 1 0 1 1 1 1 0 1 0 0 0 1 0 1 1 0 0 0 1 0 1 0 0 1 1 1 0 1 1]\n",
            " [0 1 1 0 0 1 1 1 0 1 1 0 1 0 0 0 1 0 0 0 1 0 1 0 1 1 0 1 1 0 0 0]\n",
            " [0 1 0 1 0 1 0 1 1 0 0 1 0 0 1 0 0 0 0 0 1 0 0 0 1 0 1 0 1 0 0 1]\n",
            " [0 0 0 0 1 1 0 1 0 0 0 0 0 0 0 0 1 0 1 1 0 0 0 1 0 0 0 1 1 0 1 1]\n",
            " [0 1 1 1 1 0 1 0 0 1 0 0 0 0 0 1 1 1 1 0 0 0 1 1 0 1 1 1 1 0 0 0]]\n"
          ]
        }
      ]
    },
    {
      "cell_type": "code",
      "execution_count": null,
      "id": "823ab144",
      "metadata": {
        "id": "823ab144"
      },
      "outputs": [],
      "source": [
        "indicies = np.arange(TOTAL_DATA_NUM,dtype='uint64')\n",
        "np.random.shuffle(indicies)\n",
        "df_as_frames=df_as_frames[indicies]"
      ]
    },
    {
      "cell_type": "code",
      "execution_count": null,
      "id": "18903c8a",
      "metadata": {
        "id": "18903c8a"
      },
      "outputs": [],
      "source": [
        "# convert the data into inputs and outputs\n",
        "y = df_as_frames[:,-1,:]\n",
        "X = df_as_frames[:,:-1,]\n",
        "X = X.reshape([X.shape[0], X.shape[1]*X.shape[2]])"
      ]
    },
    {
      "cell_type": "code",
      "execution_count": null,
      "id": "c5e3c558",
      "metadata": {
        "id": "c5e3c558"
      },
      "outputs": [],
      "source": [
        "# Convert the data into train and test data\n",
        "X_train = X[TEST_COUNT:]\n",
        "X_test = X[:TEST_COUNT]\n",
        "y_train = y[TEST_COUNT:]\n",
        "y_test = y[:TEST_COUNT]"
      ]
    },
    {
      "cell_type": "code",
      "execution_count": null,
      "id": "20f6434c",
      "metadata": {
        "id": "20f6434c"
      },
      "outputs": [],
      "source": [
        "def build_model(hp):\n",
        "\tLOSS=\"binary_crossentropy\"\n",
        "\tmodel = Sequential()\n",
        "\tmodel.add(Dense(1024, activation='relu',input_shape=[X.shape[1]] ))\n",
        "\tmodel.add(Dense(y.shape[1], activation='sigmoid'))\n",
        "\topt = keras.optimizers.Nadam(\n",
        "\t\tlearning_rate=hp.Float(\"learning_rate\", 10**(-5), 10**(-3),sampling=\"log\"),\n",
        "\t\tepsilon=hp.Float(\"epsilon\",1e-7,1e-5,sampling=\"log\"),\n",
        "\t\tbeta_1=hp.Float(\"beta_1\",.8,.9,sampling=\"reverse_log\"),\n",
        "\t\tbeta_2=hp.Float(\"beta_2\",.8,.9,sampling=\"reverse_log\"),\n",
        "\t\t)\n",
        "\tmodel.compile(optimizer=opt, loss=LOSS,metrics=['binary_accuracy'])\n",
        "\treturn model"
      ]
    },
    {
      "cell_type": "code",
      "execution_count": null,
      "id": "cfef1a4d",
      "metadata": {
        "id": "cfef1a4d"
      },
      "outputs": [],
      "source": [
        "# extract a short set from the training for hyper parameter tuning\n",
        "X_train_short= X_train[:600000]\n",
        "y_train_short= y_train[:600000]"
      ]
    },
    {
      "cell_type": "code",
      "execution_count": null,
      "id": "706dd8a8",
      "metadata": {
        "colab": {
          "base_uri": "https://localhost:8080/"
        },
        "id": "706dd8a8",
        "outputId": "d8f6184b-7397-4313-92aa-ece45d71f824"
      },
      "outputs": [
        {
          "output_type": "stream",
          "name": "stderr",
          "text": [
            "/usr/local/lib/python3.12/dist-packages/keras/src/layers/core/dense.py:93: UserWarning: Do not pass an `input_shape`/`input_dim` argument to a layer. When using Sequential models, prefer using an `Input(shape)` object as the first layer in the model instead.\n",
            "  super().__init__(activity_regularizer=activity_regularizer, **kwargs)\n"
          ]
        }
      ],
      "source": [
        "# use the best model for training\n",
        "# model = tuner.hypermodel.build(best_hps)\n",
        "# best_hps.values\n",
        "\n",
        "# Build the model directly with basic parameters\n",
        "LOSS = \"binary_crossentropy\"\n",
        "model = Sequential()\n",
        "model.add(Dense(1024, activation='relu', input_shape=[X.shape[1]]))\n",
        "model.add(Dense(y.shape[1], activation='sigmoid'))\n",
        "opt = keras.optimizers.Nadam(\n",
        "    learning_rate=0.0003826518055596723,  # Example learning rate\n",
        "    epsilon=6.396190758353597e-07,         # Example epsilon\n",
        "    beta_1=0.85,           # Example beta_1\n",
        "    beta_2=0.88          # Example beta_2\n",
        ")\n",
        "model.compile(optimizer=opt, loss=LOSS, metrics=['binary_accuracy'])"
      ]
    },
    {
      "cell_type": "code",
      "execution_count": null,
      "id": "6d20b5a8",
      "metadata": {
        "id": "6d20b5a8"
      },
      "outputs": [],
      "source": [
        "def train_model(model, X, Y, epochs=10, batch_size=512, log_dir = \"dense_model/\"):\n",
        "    log_dir += datetime.datetime.now().strftime(\"%Y%m%d-%H%M%S\")\n",
        "    tensorboard_callback = keras.callbacks.TensorBoard(log_dir=log_dir, histogram_freq=1,profile_batch=0)\n",
        "    model.fit(X, Y, validation_data=(X_test, y_test), epochs=epochs, batch_size=batch_size,callbacks=[tensorboard_callback],verbose=1)\n",
        "    return model"
      ]
    },
    {
      "cell_type": "code",
      "execution_count": null,
      "id": "eaf9123e",
      "metadata": {
        "colab": {
          "base_uri": "https://localhost:8080/"
        },
        "id": "eaf9123e",
        "outputId": "147c2ca8-99ed-4d1e-d8bb-ec2c5a5aa105"
      },
      "outputs": [
        {
          "output_type": "stream",
          "name": "stdout",
          "text": [
            "Epoch 1/100\n",
            "\u001b[1m3868/3868\u001b[0m \u001b[32m━━━━━━━━━━━━━━━━━━━━\u001b[0m\u001b[37m\u001b[0m \u001b[1m17s\u001b[0m 4ms/step - binary_accuracy: 0.5088 - loss: 0.6915 - val_binary_accuracy: 0.5987 - val_loss: 0.6287\n",
            "Epoch 2/100\n",
            "\u001b[1m3868/3868\u001b[0m \u001b[32m━━━━━━━━━━━━━━━━━━━━\u001b[0m\u001b[37m\u001b[0m \u001b[1m13s\u001b[0m 3ms/step - binary_accuracy: 0.6111 - loss: 0.5889 - val_binary_accuracy: 0.6241 - val_loss: 0.5217\n",
            "Epoch 3/100\n",
            "\u001b[1m3868/3868\u001b[0m \u001b[32m━━━━━━━━━━━━━━━━━━━━\u001b[0m\u001b[37m\u001b[0m \u001b[1m12s\u001b[0m 3ms/step - binary_accuracy: 0.6255 - loss: 0.5208 - val_binary_accuracy: 0.6263 - val_loss: 0.5197\n",
            "Epoch 4/100\n",
            "\u001b[1m3868/3868\u001b[0m \u001b[32m━━━━━━━━━━━━━━━━━━━━\u001b[0m\u001b[37m\u001b[0m \u001b[1m12s\u001b[0m 3ms/step - binary_accuracy: 0.6288 - loss: 0.5191 - val_binary_accuracy: 0.6327 - val_loss: 0.5134\n",
            "Epoch 5/100\n",
            "\u001b[1m3868/3868\u001b[0m \u001b[32m━━━━━━━━━━━━━━━━━━━━\u001b[0m\u001b[37m\u001b[0m \u001b[1m21s\u001b[0m 3ms/step - binary_accuracy: 0.6433 - loss: 0.5092 - val_binary_accuracy: 0.6544 - val_loss: 0.4914\n",
            "Epoch 6/100\n",
            "\u001b[1m3868/3868\u001b[0m \u001b[32m━━━━━━━━━━━━━━━━━━━━\u001b[0m\u001b[37m\u001b[0m \u001b[1m13s\u001b[0m 3ms/step - binary_accuracy: 0.6594 - loss: 0.4851 - val_binary_accuracy: 0.6674 - val_loss: 0.4689\n",
            "Epoch 7/100\n",
            "\u001b[1m3868/3868\u001b[0m \u001b[32m━━━━━━━━━━━━━━━━━━━━\u001b[0m\u001b[37m\u001b[0m \u001b[1m13s\u001b[0m 3ms/step - binary_accuracy: 0.6741 - loss: 0.4637 - val_binary_accuracy: 0.6727 - val_loss: 0.4558\n",
            "Epoch 8/100\n",
            "\u001b[1m3868/3868\u001b[0m \u001b[32m━━━━━━━━━━━━━━━━━━━━\u001b[0m\u001b[37m\u001b[0m \u001b[1m13s\u001b[0m 3ms/step - binary_accuracy: 0.6786 - loss: 0.4543 - val_binary_accuracy: 0.6759 - val_loss: 0.4519\n",
            "Epoch 9/100\n",
            "\u001b[1m3868/3868\u001b[0m \u001b[32m━━━━━━━━━━━━━━━━━━━━\u001b[0m\u001b[37m\u001b[0m \u001b[1m13s\u001b[0m 3ms/step - binary_accuracy: 0.6867 - loss: 0.4493 - val_binary_accuracy: 0.6902 - val_loss: 0.4417\n",
            "Epoch 10/100\n",
            "\u001b[1m3868/3868\u001b[0m \u001b[32m━━━━━━━━━━━━━━━━━━━━\u001b[0m\u001b[37m\u001b[0m \u001b[1m13s\u001b[0m 3ms/step - binary_accuracy: 0.7019 - loss: 0.4374 - val_binary_accuracy: 0.7065 - val_loss: 0.4256\n",
            "Epoch 11/100\n",
            "\u001b[1m3868/3868\u001b[0m \u001b[32m━━━━━━━━━━━━━━━━━━━━\u001b[0m\u001b[37m\u001b[0m \u001b[1m13s\u001b[0m 3ms/step - binary_accuracy: 0.7190 - loss: 0.4185 - val_binary_accuracy: 0.7221 - val_loss: 0.4004\n",
            "Epoch 12/100\n",
            "\u001b[1m3868/3868\u001b[0m \u001b[32m━━━━━━━━━━━━━━━━━━━━\u001b[0m\u001b[37m\u001b[0m \u001b[1m13s\u001b[0m 3ms/step - binary_accuracy: 0.7369 - loss: 0.3930 - val_binary_accuracy: 0.7530 - val_loss: 0.3710\n",
            "Epoch 13/100\n",
            "\u001b[1m3868/3868\u001b[0m \u001b[32m━━━━━━━━━━━━━━━━━━━━\u001b[0m\u001b[37m\u001b[0m \u001b[1m12s\u001b[0m 3ms/step - binary_accuracy: 0.7627 - loss: 0.3619 - val_binary_accuracy: 0.7748 - val_loss: 0.3373\n",
            "Epoch 14/100\n",
            "\u001b[1m3868/3868\u001b[0m \u001b[32m━━━━━━━━━━━━━━━━━━━━\u001b[0m\u001b[37m\u001b[0m \u001b[1m13s\u001b[0m 3ms/step - binary_accuracy: 0.7857 - loss: 0.3268 - val_binary_accuracy: 0.7943 - val_loss: 0.3018\n",
            "Epoch 15/100\n",
            "\u001b[1m3868/3868\u001b[0m \u001b[32m━━━━━━━━━━━━━━━━━━━━\u001b[0m\u001b[37m\u001b[0m \u001b[1m13s\u001b[0m 3ms/step - binary_accuracy: 0.8010 - loss: 0.2960 - val_binary_accuracy: 0.8029 - val_loss: 0.2843\n",
            "Epoch 16/100\n",
            "\u001b[1m3868/3868\u001b[0m \u001b[32m━━━━━━━━━━━━━━━━━━━━\u001b[0m\u001b[37m\u001b[0m \u001b[1m13s\u001b[0m 3ms/step - binary_accuracy: 0.8104 - loss: 0.2797 - val_binary_accuracy: 0.8149 - val_loss: 0.2710\n",
            "Epoch 17/100\n",
            "\u001b[1m3868/3868\u001b[0m \u001b[32m━━━━━━━━━━━━━━━━━━━━\u001b[0m\u001b[37m\u001b[0m \u001b[1m13s\u001b[0m 3ms/step - binary_accuracy: 0.8224 - loss: 0.2658 - val_binary_accuracy: 0.8240 - val_loss: 0.2568\n",
            "Epoch 18/100\n",
            "\u001b[1m3868/3868\u001b[0m \u001b[32m━━━━━━━━━━━━━━━━━━━━\u001b[0m\u001b[37m\u001b[0m \u001b[1m12s\u001b[0m 3ms/step - binary_accuracy: 0.8310 - loss: 0.2520 - val_binary_accuracy: 0.8317 - val_loss: 0.2425\n",
            "Epoch 19/100\n",
            "\u001b[1m3868/3868\u001b[0m \u001b[32m━━━━━━━━━━━━━━━━━━━━\u001b[0m\u001b[37m\u001b[0m \u001b[1m13s\u001b[0m 3ms/step - binary_accuracy: 0.8410 - loss: 0.2373 - val_binary_accuracy: 0.8423 - val_loss: 0.2275\n",
            "Epoch 20/100\n",
            "\u001b[1m3868/3868\u001b[0m \u001b[32m━━━━━━━━━━━━━━━━━━━━\u001b[0m\u001b[37m\u001b[0m \u001b[1m13s\u001b[0m 3ms/step - binary_accuracy: 0.8480 - loss: 0.2244 - val_binary_accuracy: 0.8442 - val_loss: 0.2207\n",
            "Epoch 21/100\n",
            "\u001b[1m3868/3868\u001b[0m \u001b[32m━━━━━━━━━━━━━━━━━━━━\u001b[0m\u001b[37m\u001b[0m \u001b[1m12s\u001b[0m 3ms/step - binary_accuracy: 0.8500 - loss: 0.2184 - val_binary_accuracy: 0.8452 - val_loss: 0.2176\n",
            "Epoch 22/100\n",
            "\u001b[1m3868/3868\u001b[0m \u001b[32m━━━━━━━━━━━━━━━━━━━━\u001b[0m\u001b[37m\u001b[0m \u001b[1m13s\u001b[0m 3ms/step - binary_accuracy: 0.8517 - loss: 0.2158 - val_binary_accuracy: 0.8487 - val_loss: 0.2154\n",
            "Epoch 23/100\n",
            "\u001b[1m3868/3868\u001b[0m \u001b[32m━━━━━━━━━━━━━━━━━━━━\u001b[0m\u001b[37m\u001b[0m \u001b[1m13s\u001b[0m 3ms/step - binary_accuracy: 0.8565 - loss: 0.2122 - val_binary_accuracy: 0.8591 - val_loss: 0.2067\n",
            "Epoch 24/100\n",
            "\u001b[1m3868/3868\u001b[0m \u001b[32m━━━━━━━━━━━━━━━━━━━━\u001b[0m\u001b[37m\u001b[0m \u001b[1m13s\u001b[0m 3ms/step - binary_accuracy: 0.8673 - loss: 0.2011 - val_binary_accuracy: 0.8685 - val_loss: 0.1930\n",
            "Epoch 25/100\n",
            "\u001b[1m3868/3868\u001b[0m \u001b[32m━━━━━━━━━━━━━━━━━━━━\u001b[0m\u001b[37m\u001b[0m \u001b[1m13s\u001b[0m 3ms/step - binary_accuracy: 0.8762 - loss: 0.1881 - val_binary_accuracy: 0.8736 - val_loss: 0.1799\n",
            "Epoch 26/100\n",
            "\u001b[1m3868/3868\u001b[0m \u001b[32m━━━━━━━━━━━━━━━━━━━━\u001b[0m\u001b[37m\u001b[0m \u001b[1m13s\u001b[0m 3ms/step - binary_accuracy: 0.8807 - loss: 0.1762 - val_binary_accuracy: 0.8801 - val_loss: 0.1707\n",
            "Epoch 27/100\n",
            "\u001b[1m3868/3868\u001b[0m \u001b[32m━━━━━━━━━━━━━━━━━━━━\u001b[0m\u001b[37m\u001b[0m \u001b[1m13s\u001b[0m 3ms/step - binary_accuracy: 0.8859 - loss: 0.1680 - val_binary_accuracy: 0.8850 - val_loss: 0.1650\n",
            "Epoch 28/100\n",
            "\u001b[1m3868/3868\u001b[0m \u001b[32m━━━━━━━━━━━━━━━━━━━━\u001b[0m\u001b[37m\u001b[0m \u001b[1m14s\u001b[0m 3ms/step - binary_accuracy: 0.8919 - loss: 0.1616 - val_binary_accuracy: 0.8904 - val_loss: 0.1581\n",
            "Epoch 29/100\n",
            "\u001b[1m3868/3868\u001b[0m \u001b[32m━━━━━━━━━━━━━━━━━━━━\u001b[0m\u001b[37m\u001b[0m \u001b[1m13s\u001b[0m 3ms/step - binary_accuracy: 0.8976 - loss: 0.1544 - val_binary_accuracy: 0.8967 - val_loss: 0.1474\n",
            "Epoch 30/100\n",
            "\u001b[1m3868/3868\u001b[0m \u001b[32m━━━━━━━━━━━━━━━━━━━━\u001b[0m\u001b[37m\u001b[0m \u001b[1m13s\u001b[0m 3ms/step - binary_accuracy: 0.9050 - loss: 0.1428 - val_binary_accuracy: 0.9133 - val_loss: 0.1326\n",
            "Epoch 31/100\n",
            "\u001b[1m3868/3868\u001b[0m \u001b[32m━━━━━━━━━━━━━━━━━━━━\u001b[0m\u001b[37m\u001b[0m \u001b[1m12s\u001b[0m 3ms/step - binary_accuracy: 0.9203 - loss: 0.1260 - val_binary_accuracy: 0.9215 - val_loss: 0.1174\n",
            "Epoch 32/100\n",
            "\u001b[1m3868/3868\u001b[0m \u001b[32m━━━━━━━━━━━━━━━━━━━━\u001b[0m\u001b[37m\u001b[0m \u001b[1m13s\u001b[0m 3ms/step - binary_accuracy: 0.9260 - loss: 0.1134 - val_binary_accuracy: 0.9264 - val_loss: 0.1058\n",
            "Epoch 33/100\n",
            "\u001b[1m3868/3868\u001b[0m \u001b[32m━━━━━━━━━━━━━━━━━━━━\u001b[0m\u001b[37m\u001b[0m \u001b[1m12s\u001b[0m 3ms/step - binary_accuracy: 0.9304 - loss: 0.1027 - val_binary_accuracy: 0.9357 - val_loss: 0.0960\n",
            "Epoch 34/100\n",
            "\u001b[1m3868/3868\u001b[0m \u001b[32m━━━━━━━━━━━━━━━━━━━━\u001b[0m\u001b[37m\u001b[0m \u001b[1m13s\u001b[0m 3ms/step - binary_accuracy: 0.9394 - loss: 0.0924 - val_binary_accuracy: 0.9438 - val_loss: 0.0870\n",
            "Epoch 35/100\n",
            "\u001b[1m3868/3868\u001b[0m \u001b[32m━━━━━━━━━━━━━━━━━━━━\u001b[0m\u001b[37m\u001b[0m \u001b[1m12s\u001b[0m 3ms/step - binary_accuracy: 0.9483 - loss: 0.0829 - val_binary_accuracy: 0.9536 - val_loss: 0.0733\n",
            "Epoch 36/100\n",
            "\u001b[1m3868/3868\u001b[0m \u001b[32m━━━━━━━━━━━━━━━━━━━━\u001b[0m\u001b[37m\u001b[0m \u001b[1m13s\u001b[0m 3ms/step - binary_accuracy: 0.9572 - loss: 0.0699 - val_binary_accuracy: 0.9578 - val_loss: 0.0656\n",
            "Epoch 37/100\n",
            "\u001b[1m3868/3868\u001b[0m \u001b[32m━━━━━━━━━━━━━━━━━━━━\u001b[0m\u001b[37m\u001b[0m \u001b[1m13s\u001b[0m 3ms/step - binary_accuracy: 0.9628 - loss: 0.0613 - val_binary_accuracy: 0.9656 - val_loss: 0.0529\n",
            "Epoch 38/100\n",
            "\u001b[1m3868/3868\u001b[0m \u001b[32m━━━━━━━━━━━━━━━━━━━━\u001b[0m\u001b[37m\u001b[0m \u001b[1m13s\u001b[0m 3ms/step - binary_accuracy: 0.9689 - loss: 0.0506 - val_binary_accuracy: 0.9676 - val_loss: 0.0479\n",
            "Epoch 39/100\n",
            "\u001b[1m3868/3868\u001b[0m \u001b[32m━━━━━━━━━━━━━━━━━━━━\u001b[0m\u001b[37m\u001b[0m \u001b[1m13s\u001b[0m 3ms/step - binary_accuracy: 0.9703 - loss: 0.0459 - val_binary_accuracy: 0.9685 - val_loss: 0.0447\n",
            "Epoch 40/100\n",
            "\u001b[1m3868/3868\u001b[0m \u001b[32m━━━━━━━━━━━━━━━━━━━━\u001b[0m\u001b[37m\u001b[0m \u001b[1m12s\u001b[0m 3ms/step - binary_accuracy: 0.9711 - loss: 0.0436 - val_binary_accuracy: 0.9685 - val_loss: 0.0441\n",
            "Epoch 41/100\n",
            "\u001b[1m3868/3868\u001b[0m \u001b[32m━━━━━━━━━━━━━━━━━━━━\u001b[0m\u001b[37m\u001b[0m \u001b[1m12s\u001b[0m 3ms/step - binary_accuracy: 0.9714 - loss: 0.0431 - val_binary_accuracy: 0.9686 - val_loss: 0.0440\n",
            "Epoch 42/100\n",
            "\u001b[1m3868/3868\u001b[0m \u001b[32m━━━━━━━━━━━━━━━━━━━━\u001b[0m\u001b[37m\u001b[0m \u001b[1m12s\u001b[0m 3ms/step - binary_accuracy: 0.9715 - loss: 0.0429 - val_binary_accuracy: 0.9685 - val_loss: 0.0440\n",
            "Epoch 43/100\n",
            "\u001b[1m3868/3868\u001b[0m \u001b[32m━━━━━━━━━━━━━━━━━━━━\u001b[0m\u001b[37m\u001b[0m \u001b[1m12s\u001b[0m 3ms/step - binary_accuracy: 0.9716 - loss: 0.0429 - val_binary_accuracy: 0.9686 - val_loss: 0.0441\n",
            "Epoch 44/100\n",
            "\u001b[1m3868/3868\u001b[0m \u001b[32m━━━━━━━━━━━━━━━━━━━━\u001b[0m\u001b[37m\u001b[0m \u001b[1m12s\u001b[0m 3ms/step - binary_accuracy: 0.9717 - loss: 0.0428 - val_binary_accuracy: 0.9687 - val_loss: 0.0441\n",
            "Epoch 45/100\n",
            "\u001b[1m3868/3868\u001b[0m \u001b[32m━━━━━━━━━━━━━━━━━━━━\u001b[0m\u001b[37m\u001b[0m \u001b[1m12s\u001b[0m 3ms/step - binary_accuracy: 0.9718 - loss: 0.0428 - val_binary_accuracy: 0.9687 - val_loss: 0.0441\n",
            "Epoch 46/100\n",
            "\u001b[1m3868/3868\u001b[0m \u001b[32m━━━━━━━━━━━━━━━━━━━━\u001b[0m\u001b[37m\u001b[0m \u001b[1m12s\u001b[0m 3ms/step - binary_accuracy: 0.9719 - loss: 0.0428 - val_binary_accuracy: 0.9687 - val_loss: 0.0442\n",
            "Epoch 47/100\n",
            "\u001b[1m3868/3868\u001b[0m \u001b[32m━━━━━━━━━━━━━━━━━━━━\u001b[0m\u001b[37m\u001b[0m \u001b[1m12s\u001b[0m 3ms/step - binary_accuracy: 0.9720 - loss: 0.0427 - val_binary_accuracy: 0.9686 - val_loss: 0.0442\n",
            "Epoch 48/100\n",
            "\u001b[1m3868/3868\u001b[0m \u001b[32m━━━━━━━━━━━━━━━━━━━━\u001b[0m\u001b[37m\u001b[0m \u001b[1m12s\u001b[0m 3ms/step - binary_accuracy: 0.9721 - loss: 0.0427 - val_binary_accuracy: 0.9686 - val_loss: 0.0443\n",
            "Epoch 49/100\n",
            "\u001b[1m3868/3868\u001b[0m \u001b[32m━━━━━━━━━━━━━━━━━━━━\u001b[0m\u001b[37m\u001b[0m \u001b[1m13s\u001b[0m 3ms/step - binary_accuracy: 0.9721 - loss: 0.0427 - val_binary_accuracy: 0.9686 - val_loss: 0.0444\n",
            "Epoch 50/100\n",
            "\u001b[1m3868/3868\u001b[0m \u001b[32m━━━━━━━━━━━━━━━━━━━━\u001b[0m\u001b[37m\u001b[0m \u001b[1m12s\u001b[0m 3ms/step - binary_accuracy: 0.9722 - loss: 0.0427 - val_binary_accuracy: 0.9686 - val_loss: 0.0444\n",
            "Epoch 51/100\n",
            "\u001b[1m3868/3868\u001b[0m \u001b[32m━━━━━━━━━━━━━━━━━━━━\u001b[0m\u001b[37m\u001b[0m \u001b[1m12s\u001b[0m 3ms/step - binary_accuracy: 0.9722 - loss: 0.0426 - val_binary_accuracy: 0.9684 - val_loss: 0.0444\n",
            "Epoch 52/100\n",
            "\u001b[1m3868/3868\u001b[0m \u001b[32m━━━━━━━━━━━━━━━━━━━━\u001b[0m\u001b[37m\u001b[0m \u001b[1m12s\u001b[0m 3ms/step - binary_accuracy: 0.9723 - loss: 0.0426 - val_binary_accuracy: 0.9684 - val_loss: 0.0445\n",
            "Epoch 53/100\n",
            "\u001b[1m3868/3868\u001b[0m \u001b[32m━━━━━━━━━━━━━━━━━━━━\u001b[0m\u001b[37m\u001b[0m \u001b[1m12s\u001b[0m 3ms/step - binary_accuracy: 0.9723 - loss: 0.0426 - val_binary_accuracy: 0.9684 - val_loss: 0.0445\n",
            "Epoch 54/100\n",
            "\u001b[1m3868/3868\u001b[0m \u001b[32m━━━━━━━━━━━━━━━━━━━━\u001b[0m\u001b[37m\u001b[0m \u001b[1m12s\u001b[0m 3ms/step - binary_accuracy: 0.9724 - loss: 0.0426 - val_binary_accuracy: 0.9684 - val_loss: 0.0445\n",
            "Epoch 55/100\n",
            "\u001b[1m3868/3868\u001b[0m \u001b[32m━━━━━━━━━━━━━━━━━━━━\u001b[0m\u001b[37m\u001b[0m \u001b[1m12s\u001b[0m 3ms/step - binary_accuracy: 0.9724 - loss: 0.0426 - val_binary_accuracy: 0.9683 - val_loss: 0.0446\n",
            "Epoch 56/100\n",
            "\u001b[1m3868/3868\u001b[0m \u001b[32m━━━━━━━━━━━━━━━━━━━━\u001b[0m\u001b[37m\u001b[0m \u001b[1m20s\u001b[0m 3ms/step - binary_accuracy: 0.9725 - loss: 0.0426 - val_binary_accuracy: 0.9683 - val_loss: 0.0446\n",
            "Epoch 57/100\n",
            "\u001b[1m3868/3868\u001b[0m \u001b[32m━━━━━━━━━━━━━━━━━━━━\u001b[0m\u001b[37m\u001b[0m \u001b[1m11s\u001b[0m 3ms/step - binary_accuracy: 0.9725 - loss: 0.0425 - val_binary_accuracy: 0.9683 - val_loss: 0.0447\n",
            "Epoch 58/100\n",
            "\u001b[1m3868/3868\u001b[0m \u001b[32m━━━━━━━━━━━━━━━━━━━━\u001b[0m\u001b[37m\u001b[0m \u001b[1m11s\u001b[0m 3ms/step - binary_accuracy: 0.9726 - loss: 0.0425 - val_binary_accuracy: 0.9684 - val_loss: 0.0447\n",
            "Epoch 59/100\n",
            "\u001b[1m3868/3868\u001b[0m \u001b[32m━━━━━━━━━━━━━━━━━━━━\u001b[0m\u001b[37m\u001b[0m \u001b[1m12s\u001b[0m 3ms/step - binary_accuracy: 0.9726 - loss: 0.0425 - val_binary_accuracy: 0.9684 - val_loss: 0.0447\n",
            "Epoch 60/100\n",
            "\u001b[1m3868/3868\u001b[0m \u001b[32m━━━━━━━━━━━━━━━━━━━━\u001b[0m\u001b[37m\u001b[0m \u001b[1m12s\u001b[0m 3ms/step - binary_accuracy: 0.9726 - loss: 0.0425 - val_binary_accuracy: 0.9684 - val_loss: 0.0448\n",
            "Epoch 61/100\n",
            "\u001b[1m3868/3868\u001b[0m \u001b[32m━━━━━━━━━━━━━━━━━━━━\u001b[0m\u001b[37m\u001b[0m \u001b[1m12s\u001b[0m 3ms/step - binary_accuracy: 0.9726 - loss: 0.0425 - val_binary_accuracy: 0.9684 - val_loss: 0.0448\n",
            "Epoch 62/100\n",
            "\u001b[1m3868/3868\u001b[0m \u001b[32m━━━━━━━━━━━━━━━━━━━━\u001b[0m\u001b[37m\u001b[0m \u001b[1m12s\u001b[0m 3ms/step - binary_accuracy: 0.9727 - loss: 0.0425 - val_binary_accuracy: 0.9684 - val_loss: 0.0448\n",
            "Epoch 63/100\n",
            "\u001b[1m3868/3868\u001b[0m \u001b[32m━━━━━━━━━━━━━━━━━━━━\u001b[0m\u001b[37m\u001b[0m \u001b[1m12s\u001b[0m 3ms/step - binary_accuracy: 0.9727 - loss: 0.0425 - val_binary_accuracy: 0.9684 - val_loss: 0.0448\n",
            "Epoch 64/100\n",
            "\u001b[1m3868/3868\u001b[0m \u001b[32m━━━━━━━━━━━━━━━━━━━━\u001b[0m\u001b[37m\u001b[0m \u001b[1m12s\u001b[0m 3ms/step - binary_accuracy: 0.9727 - loss: 0.0425 - val_binary_accuracy: 0.9684 - val_loss: 0.0448\n",
            "Epoch 65/100\n",
            "\u001b[1m3868/3868\u001b[0m \u001b[32m━━━━━━━━━━━━━━━━━━━━\u001b[0m\u001b[37m\u001b[0m \u001b[1m12s\u001b[0m 3ms/step - binary_accuracy: 0.9727 - loss: 0.0425 - val_binary_accuracy: 0.9684 - val_loss: 0.0448\n",
            "Epoch 66/100\n",
            "\u001b[1m3868/3868\u001b[0m \u001b[32m━━━━━━━━━━━━━━━━━━━━\u001b[0m\u001b[37m\u001b[0m \u001b[1m12s\u001b[0m 3ms/step - binary_accuracy: 0.9728 - loss: 0.0424 - val_binary_accuracy: 0.9684 - val_loss: 0.0449\n",
            "Epoch 67/100\n",
            "\u001b[1m3868/3868\u001b[0m \u001b[32m━━━━━━━━━━━━━━━━━━━━\u001b[0m\u001b[37m\u001b[0m \u001b[1m12s\u001b[0m 3ms/step - binary_accuracy: 0.9728 - loss: 0.0424 - val_binary_accuracy: 0.9684 - val_loss: 0.0449\n",
            "Epoch 68/100\n",
            "\u001b[1m3868/3868\u001b[0m \u001b[32m━━━━━━━━━━━━━━━━━━━━\u001b[0m\u001b[37m\u001b[0m \u001b[1m12s\u001b[0m 3ms/step - binary_accuracy: 0.9728 - loss: 0.0424 - val_binary_accuracy: 0.9684 - val_loss: 0.0449\n",
            "Epoch 69/100\n",
            "\u001b[1m3868/3868\u001b[0m \u001b[32m━━━━━━━━━━━━━━━━━━━━\u001b[0m\u001b[37m\u001b[0m \u001b[1m12s\u001b[0m 3ms/step - binary_accuracy: 0.9728 - loss: 0.0424 - val_binary_accuracy: 0.9685 - val_loss: 0.0449\n",
            "Epoch 70/100\n",
            "\u001b[1m3868/3868\u001b[0m \u001b[32m━━━━━━━━━━━━━━━━━━━━\u001b[0m\u001b[37m\u001b[0m \u001b[1m12s\u001b[0m 3ms/step - binary_accuracy: 0.9729 - loss: 0.0424 - val_binary_accuracy: 0.9686 - val_loss: 0.0449\n",
            "Epoch 71/100\n",
            "\u001b[1m3868/3868\u001b[0m \u001b[32m━━━━━━━━━━━━━━━━━━━━\u001b[0m\u001b[37m\u001b[0m \u001b[1m12s\u001b[0m 3ms/step - binary_accuracy: 0.9729 - loss: 0.0424 - val_binary_accuracy: 0.9685 - val_loss: 0.0449\n",
            "Epoch 72/100\n",
            "\u001b[1m3868/3868\u001b[0m \u001b[32m━━━━━━━━━━━━━━━━━━━━\u001b[0m\u001b[37m\u001b[0m \u001b[1m12s\u001b[0m 3ms/step - binary_accuracy: 0.9729 - loss: 0.0424 - val_binary_accuracy: 0.9685 - val_loss: 0.0449\n",
            "Epoch 73/100\n",
            "\u001b[1m3868/3868\u001b[0m \u001b[32m━━━━━━━━━━━━━━━━━━━━\u001b[0m\u001b[37m\u001b[0m \u001b[1m12s\u001b[0m 3ms/step - binary_accuracy: 0.9729 - loss: 0.0424 - val_binary_accuracy: 0.9686 - val_loss: 0.0449\n",
            "Epoch 74/100\n",
            "\u001b[1m3868/3868\u001b[0m \u001b[32m━━━━━━━━━━━━━━━━━━━━\u001b[0m\u001b[37m\u001b[0m \u001b[1m12s\u001b[0m 3ms/step - binary_accuracy: 0.9729 - loss: 0.0424 - val_binary_accuracy: 0.9686 - val_loss: 0.0450\n",
            "Epoch 75/100\n",
            "\u001b[1m3868/3868\u001b[0m \u001b[32m━━━━━━━━━━━━━━━━━━━━\u001b[0m\u001b[37m\u001b[0m \u001b[1m12s\u001b[0m 3ms/step - binary_accuracy: 0.9729 - loss: 0.0424 - val_binary_accuracy: 0.9686 - val_loss: 0.0450\n",
            "Epoch 76/100\n",
            "\u001b[1m3868/3868\u001b[0m \u001b[32m━━━━━━━━━━━━━━━━━━━━\u001b[0m\u001b[37m\u001b[0m \u001b[1m12s\u001b[0m 3ms/step - binary_accuracy: 0.9729 - loss: 0.0424 - val_binary_accuracy: 0.9686 - val_loss: 0.0450\n",
            "Epoch 77/100\n",
            "\u001b[1m3868/3868\u001b[0m \u001b[32m━━━━━━━━━━━━━━━━━━━━\u001b[0m\u001b[37m\u001b[0m \u001b[1m12s\u001b[0m 3ms/step - binary_accuracy: 0.9730 - loss: 0.0424 - val_binary_accuracy: 0.9686 - val_loss: 0.0450\n",
            "Epoch 78/100\n",
            "\u001b[1m3868/3868\u001b[0m \u001b[32m━━━━━━━━━━━━━━━━━━━━\u001b[0m\u001b[37m\u001b[0m \u001b[1m12s\u001b[0m 3ms/step - binary_accuracy: 0.9730 - loss: 0.0424 - val_binary_accuracy: 0.9686 - val_loss: 0.0450\n",
            "Epoch 79/100\n",
            "\u001b[1m3868/3868\u001b[0m \u001b[32m━━━━━━━━━━━━━━━━━━━━\u001b[0m\u001b[37m\u001b[0m \u001b[1m11s\u001b[0m 3ms/step - binary_accuracy: 0.9730 - loss: 0.0423 - val_binary_accuracy: 0.9687 - val_loss: 0.0450\n",
            "Epoch 80/100\n",
            "\u001b[1m3868/3868\u001b[0m \u001b[32m━━━━━━━━━━━━━━━━━━━━\u001b[0m\u001b[37m\u001b[0m \u001b[1m13s\u001b[0m 3ms/step - binary_accuracy: 0.9735 - loss: 0.0421 - val_binary_accuracy: 0.9703 - val_loss: 0.0441\n",
            "Epoch 81/100\n",
            "\u001b[1m3868/3868\u001b[0m \u001b[32m━━━━━━━━━━━━━━━━━━━━\u001b[0m\u001b[37m\u001b[0m \u001b[1m13s\u001b[0m 3ms/step - binary_accuracy: 0.9751 - loss: 0.0411 - val_binary_accuracy: 0.9727 - val_loss: 0.0423\n",
            "Epoch 82/100\n",
            "\u001b[1m3868/3868\u001b[0m \u001b[32m━━━━━━━━━━━━━━━━━━━━\u001b[0m\u001b[37m\u001b[0m \u001b[1m13s\u001b[0m 3ms/step - binary_accuracy: 0.9768 - loss: 0.0393 - val_binary_accuracy: 0.9747 - val_loss: 0.0404\n",
            "Epoch 83/100\n",
            "\u001b[1m3868/3868\u001b[0m \u001b[32m━━━━━━━━━━━━━━━━━━━━\u001b[0m\u001b[37m\u001b[0m \u001b[1m13s\u001b[0m 3ms/step - binary_accuracy: 0.9782 - loss: 0.0376 - val_binary_accuracy: 0.9763 - val_loss: 0.0388\n",
            "Epoch 84/100\n",
            "\u001b[1m3868/3868\u001b[0m \u001b[32m━━━━━━━━━━━━━━━━━━━━\u001b[0m\u001b[37m\u001b[0m \u001b[1m13s\u001b[0m 3ms/step - binary_accuracy: 0.9798 - loss: 0.0358 - val_binary_accuracy: 0.9798 - val_loss: 0.0351\n",
            "Epoch 85/100\n",
            "\u001b[1m3868/3868\u001b[0m \u001b[32m━━━━━━━━━━━━━━━━━━━━\u001b[0m\u001b[37m\u001b[0m \u001b[1m13s\u001b[0m 3ms/step - binary_accuracy: 0.9832 - loss: 0.0315 - val_binary_accuracy: 0.9821 - val_loss: 0.0302\n",
            "Epoch 86/100\n",
            "\u001b[1m3868/3868\u001b[0m \u001b[32m━━━━━━━━━━━━━━━━━━━━\u001b[0m\u001b[37m\u001b[0m \u001b[1m13s\u001b[0m 3ms/step - binary_accuracy: 0.9848 - loss: 0.0274 - val_binary_accuracy: 0.9833 - val_loss: 0.0270\n",
            "Epoch 87/100\n",
            "\u001b[1m3868/3868\u001b[0m \u001b[32m━━━━━━━━━━━━━━━━━━━━\u001b[0m\u001b[37m\u001b[0m \u001b[1m13s\u001b[0m 3ms/step - binary_accuracy: 0.9858 - loss: 0.0247 - val_binary_accuracy: 0.9840 - val_loss: 0.0251\n",
            "Epoch 88/100\n",
            "\u001b[1m3868/3868\u001b[0m \u001b[32m━━━━━━━━━━━━━━━━━━━━\u001b[0m\u001b[37m\u001b[0m \u001b[1m12s\u001b[0m 3ms/step - binary_accuracy: 0.9863 - loss: 0.0231 - val_binary_accuracy: 0.9843 - val_loss: 0.0239\n",
            "Epoch 89/100\n",
            "\u001b[1m3868/3868\u001b[0m \u001b[32m━━━━━━━━━━━━━━━━━━━━\u001b[0m\u001b[37m\u001b[0m \u001b[1m12s\u001b[0m 3ms/step - binary_accuracy: 0.9865 - loss: 0.0221 - val_binary_accuracy: 0.9842 - val_loss: 0.0233\n",
            "Epoch 90/100\n",
            "\u001b[1m3868/3868\u001b[0m \u001b[32m━━━━━━━━━━━━━━━━━━━━\u001b[0m\u001b[37m\u001b[0m \u001b[1m12s\u001b[0m 3ms/step - binary_accuracy: 0.9866 - loss: 0.0216 - val_binary_accuracy: 0.9843 - val_loss: 0.0230\n",
            "Epoch 91/100\n",
            "\u001b[1m3868/3868\u001b[0m \u001b[32m━━━━━━━━━━━━━━━━━━━━\u001b[0m\u001b[37m\u001b[0m \u001b[1m12s\u001b[0m 3ms/step - binary_accuracy: 0.9867 - loss: 0.0213 - val_binary_accuracy: 0.9843 - val_loss: 0.0229\n",
            "Epoch 92/100\n",
            "\u001b[1m3868/3868\u001b[0m \u001b[32m━━━━━━━━━━━━━━━━━━━━\u001b[0m\u001b[37m\u001b[0m \u001b[1m12s\u001b[0m 3ms/step - binary_accuracy: 0.9868 - loss: 0.0212 - val_binary_accuracy: 0.9843 - val_loss: 0.0229\n",
            "Epoch 93/100\n",
            "\u001b[1m3868/3868\u001b[0m \u001b[32m━━━━━━━━━━━━━━━━━━━━\u001b[0m\u001b[37m\u001b[0m \u001b[1m12s\u001b[0m 3ms/step - binary_accuracy: 0.9868 - loss: 0.0211 - val_binary_accuracy: 0.9842 - val_loss: 0.0229\n",
            "Epoch 94/100\n",
            "\u001b[1m3868/3868\u001b[0m \u001b[32m━━━━━━━━━━━━━━━━━━━━\u001b[0m\u001b[37m\u001b[0m \u001b[1m12s\u001b[0m 3ms/step - binary_accuracy: 0.9869 - loss: 0.0210 - val_binary_accuracy: 0.9843 - val_loss: 0.0229\n",
            "Epoch 95/100\n",
            "\u001b[1m3868/3868\u001b[0m \u001b[32m━━━━━━━━━━━━━━━━━━━━\u001b[0m\u001b[37m\u001b[0m \u001b[1m12s\u001b[0m 3ms/step - binary_accuracy: 0.9869 - loss: 0.0210 - val_binary_accuracy: 0.9842 - val_loss: 0.0229\n",
            "Epoch 96/100\n",
            "\u001b[1m3868/3868\u001b[0m \u001b[32m━━━━━━━━━━━━━━━━━━━━\u001b[0m\u001b[37m\u001b[0m \u001b[1m12s\u001b[0m 3ms/step - binary_accuracy: 0.9869 - loss: 0.0209 - val_binary_accuracy: 0.9842 - val_loss: 0.0230\n",
            "Epoch 97/100\n",
            "\u001b[1m3868/3868\u001b[0m \u001b[32m━━━━━━━━━━━━━━━━━━━━\u001b[0m\u001b[37m\u001b[0m \u001b[1m12s\u001b[0m 3ms/step - binary_accuracy: 0.9870 - loss: 0.0209 - val_binary_accuracy: 0.9843 - val_loss: 0.0229\n",
            "Epoch 98/100\n",
            "\u001b[1m3868/3868\u001b[0m \u001b[32m━━━━━━━━━━━━━━━━━━━━\u001b[0m\u001b[37m\u001b[0m \u001b[1m13s\u001b[0m 3ms/step - binary_accuracy: 0.9876 - loss: 0.0206 - val_binary_accuracy: 0.9862 - val_loss: 0.0220\n",
            "Epoch 99/100\n",
            "\u001b[1m3868/3868\u001b[0m \u001b[32m━━━━━━━━━━━━━━━━━━━━\u001b[0m\u001b[37m\u001b[0m \u001b[1m13s\u001b[0m 3ms/step - binary_accuracy: 0.9891 - loss: 0.0196 - val_binary_accuracy: 0.9883 - val_loss: 0.0203\n",
            "Epoch 100/100\n",
            "\u001b[1m3868/3868\u001b[0m \u001b[32m━━━━━━━━━━━━━━━━━━━━\u001b[0m\u001b[37m\u001b[0m \u001b[1m13s\u001b[0m 3ms/step - binary_accuracy: 0.9907 - loss: 0.0179 - val_binary_accuracy: 0.9900 - val_loss: 0.0185\n",
            "CPU times: user 23min 12s, sys: 1min 53s, total: 25min 6s\n",
            "Wall time: 21min 4s\n"
          ]
        }
      ],
      "source": [
        "%%time\n",
        "my_model_trained = train_model(model, epochs=100)"
      ]
    },
    {
      "cell_type": "code",
      "execution_count": null,
      "id": "113ed40b",
      "metadata": {
        "colab": {
          "base_uri": "https://localhost:8080/"
        },
        "id": "113ed40b",
        "outputId": "22fc3641-0212-4ecb-a3a7-2fe9553e8761"
      },
      "outputs": [
        {
          "output_type": "stream",
          "name": "stdout",
          "text": [
            "\u001b[1m40/40\u001b[0m \u001b[32m━━━━━━━━━━━━━━━━━━━━\u001b[0m\u001b[37m\u001b[0m \u001b[1m1s\u001b[0m 10ms/step - binary_accuracy: 0.9900 - loss: 0.0185\n",
            "test loss: 0.018533, test acc: 0.9900281429290771\n"
          ]
        }
      ],
      "source": [
        "results = model.evaluate(X_test, y_test, batch_size=256)\n",
        "print(\"test loss: %f, test acc: %s\" % tuple(results))"
      ]
    },
    {
      "cell_type": "code",
      "execution_count": null,
      "id": "b25b2d0d",
      "metadata": {
        "colab": {
          "base_uri": "https://localhost:8080/"
        },
        "id": "b25b2d0d",
        "outputId": "3c6b57f8-b28a-4587-a832-c7bec9252d32"
      },
      "outputs": [
        {
          "output_type": "stream",
          "name": "stderr",
          "text": [
            "WARNING:absl:You are saving your model as an HDF5 file via `model.save()` or `keras.saving.save_model(model)`. This file format is considered legacy. We recommend using instead the native Keras format, e.g. `model.save('my_model.keras')` or `keras.saving.save_model(model, 'my_model.keras')`. \n"
          ]
        }
      ],
      "source": [
        "my_model_trained.save(\"xorshift128_model.h5\")"
      ]
    },
    {
      "cell_type": "code",
      "source": [
        "my_model_trained.save(\"xorshift128_model.keras\")"
      ],
      "metadata": {
        "id": "60FxJgzBNu9n"
      },
      "id": "60FxJgzBNu9n",
      "execution_count": null,
      "outputs": []
    },
    {
      "cell_type": "markdown",
      "source": [
        "# Numpy Random"
      ],
      "metadata": {
        "id": "uItCHUnmV0EY"
      },
      "id": "uItCHUnmV0EY"
    },
    {
      "cell_type": "code",
      "source": [
        "def preprocess_data(filename, import_count, test_count, previous_timestep_count, bit_width):\n",
        "    \"\"\"\n",
        "    Loads data from a file, preprocesses it, and returns training and testing sets.\n",
        "\n",
        "    Args:\n",
        "        filename (str): The path to the data file.\n",
        "        import_count (int): The number of data points to import.\n",
        "        test_count (int): The number of data points to use for testing.\n",
        "        previous_timestep_count (int): The number of previous timesteps to use as input.\n",
        "        bit_width (int): The number of bits in each data point.\n",
        "\n",
        "    Returns:\n",
        "        tuple: A tuple containing X_train, X_test, y_train, y_test.\n",
        "    \"\"\"\n",
        "    # Load the data\n",
        "    df = np.genfromtxt(filename, delimiter='\\n', dtype='uint64')[:import_count]\n",
        "\n",
        "    # convert the generated numbers to binary sequences\n",
        "    df_as_bits = (df[:, None] & (1 << np.arange(bit_width, dtype='uint64')) > 0).astype(int)\n",
        "\n",
        "    # convert the sequence of generated numbers to inputs and outputs using striding\n",
        "    df_as_frames = strided(df_as_bits, previous_timestep_count + 1)\n",
        "\n",
        "    # Shuffle the data\n",
        "    total_data_num = import_count - previous_timestep_count\n",
        "    indicies = np.arange(total_data_num, dtype='uint64')\n",
        "    np.random.shuffle(indicies)\n",
        "    df_as_frames = df_as_frames[indicies]\n",
        "\n",
        "    # convert the data into inputs and outputs\n",
        "    y = df_as_frames[:, -1, :]\n",
        "    X = df_as_frames[:, :-1, ]\n",
        "    X = X.reshape([X.shape[0], X.shape[1] * X.shape[2]])\n",
        "\n",
        "    # Convert the data into train and test data\n",
        "    X_train = X[test_count:]\n",
        "    X_test = X[:test_count]\n",
        "    y_train = y[test_count:]\n",
        "    y_test = y[:test_count]\n",
        "\n",
        "    return X_train, X_test, y_train, y_test"
      ],
      "metadata": {
        "id": "BdNSikNcNyPp"
      },
      "id": "BdNSikNcNyPp",
      "execution_count": null,
      "outputs": []
    },
    {
      "cell_type": "code",
      "metadata": {
        "colab": {
          "base_uri": "https://localhost:8080/"
        },
        "id": "74e4316e",
        "outputId": "1320c90d-b8f0-439f-bc8f-d06c96bbbefe"
      },
      "source": [
        "# Example of how to use the function:\n",
        "RNG_OUTPUT_FILENAME=\"prng_64M_decimals.txt\"\n",
        "IMPORT_COUNT = 1990000\n",
        "TEST_COUNT = 10000\n",
        "PREVIOUS_TIMESTEP_COUNT = 4\n",
        "BIT_WIDTH = 32 # Make sure this is calculated correctly earlier\n",
        "\n",
        "X_train, X_test, y_train, y_test = preprocess_data(\n",
        "    RNG_OUTPUT_FILENAME,\n",
        "    IMPORT_COUNT,\n",
        "    TEST_COUNT,\n",
        "    PREVIOUS_TIMESTEP_COUNT,\n",
        "    BIT_WIDTH\n",
        ")\n",
        "\n",
        "print(\"X_train shape:\", X_train.shape)\n",
        "print(\"X_test shape:\", X_test.shape)\n",
        "print(\"y_train shape:\", y_train.shape)\n",
        "print(\"y_test shape:\", y_test.shape)"
      ],
      "id": "74e4316e",
      "execution_count": null,
      "outputs": [
        {
          "output_type": "stream",
          "name": "stdout",
          "text": [
            "X_train shape: (1979996, 128)\n",
            "X_test shape: (10000, 128)\n",
            "y_train shape: (1979996, 32)\n",
            "y_test shape: (10000, 32)\n"
          ]
        }
      ]
    },
    {
      "cell_type": "code",
      "source": [
        "LOSS = \"binary_crossentropy\"\n",
        "model_np = Sequential()\n",
        "model_np.add(Dense(1024, activation='relu', input_shape=[X_train.shape[1]]))\n",
        "model_np.add(Dense(y_train.shape[1], activation='sigmoid'))\n",
        "opt = keras.optimizers.Nadam(\n",
        "    learning_rate=0.00038,  # Example learning rate\n",
        "    epsilon=6.396e-07,         # Example epsilon\n",
        "    beta_1=0.85,           # Example beta_1\n",
        "    beta_2=0.88          # Example beta_2\n",
        ")\n",
        "model_np.compile(optimizer=opt, loss=LOSS, metrics=['binary_accuracy'])"
      ],
      "metadata": {
        "colab": {
          "base_uri": "https://localhost:8080/"
        },
        "id": "zONpQVX9VKMg",
        "outputId": "3b826b62-51bb-4cd1-9351-b66bec2373f2"
      },
      "id": "zONpQVX9VKMg",
      "execution_count": null,
      "outputs": [
        {
          "output_type": "stream",
          "name": "stderr",
          "text": [
            "/usr/local/lib/python3.12/dist-packages/keras/src/layers/core/dense.py:93: UserWarning: Do not pass an `input_shape`/`input_dim` argument to a layer. When using Sequential models, prefer using an `Input(shape)` object as the first layer in the model instead.\n",
            "  super().__init__(activity_regularizer=activity_regularizer, **kwargs)\n"
          ]
        }
      ]
    },
    {
      "cell_type": "code",
      "source": [
        "%%time\n",
        "my_model_trained_np = train_model(model_np, X_train, y_train, epochs=50)"
      ],
      "metadata": {
        "colab": {
          "base_uri": "https://localhost:8080/"
        },
        "id": "NqVeTxzBVak7",
        "outputId": "cb6a6ec6-564c-4c0e-e604-eef414fdf149"
      },
      "id": "NqVeTxzBVak7",
      "execution_count": null,
      "outputs": [
        {
          "output_type": "stream",
          "name": "stdout",
          "text": [
            "Epoch 1/50\n",
            "\u001b[1m3868/3868\u001b[0m \u001b[32m━━━━━━━━━━━━━━━━━━━━\u001b[0m\u001b[37m\u001b[0m \u001b[1m15s\u001b[0m 3ms/step - binary_accuracy: 0.4998 - loss: 0.6939 - val_binary_accuracy: 0.5013 - val_loss: 0.6931\n",
            "Epoch 2/50\n",
            "\u001b[1m3868/3868\u001b[0m \u001b[32m━━━━━━━━━━━━━━━━━━━━\u001b[0m\u001b[37m\u001b[0m \u001b[1m11s\u001b[0m 3ms/step - binary_accuracy: 0.5011 - loss: 0.6931 - val_binary_accuracy: 0.5011 - val_loss: 0.6932\n",
            "Epoch 3/50\n",
            "\u001b[1m3868/3868\u001b[0m \u001b[32m━━━━━━━━━━━━━━━━━━━━\u001b[0m\u001b[37m\u001b[0m \u001b[1m11s\u001b[0m 3ms/step - binary_accuracy: 0.5026 - loss: 0.6931 - val_binary_accuracy: 0.5007 - val_loss: 0.6932\n",
            "Epoch 4/50\n",
            "\u001b[1m3868/3868\u001b[0m \u001b[32m━━━━━━━━━━━━━━━━━━━━\u001b[0m\u001b[37m\u001b[0m \u001b[1m11s\u001b[0m 3ms/step - binary_accuracy: 0.5047 - loss: 0.6930 - val_binary_accuracy: 0.5003 - val_loss: 0.6932\n",
            "Epoch 5/50\n",
            "\u001b[1m3868/3868\u001b[0m \u001b[32m━━━━━━━━━━━━━━━━━━━━\u001b[0m\u001b[37m\u001b[0m \u001b[1m13s\u001b[0m 3ms/step - binary_accuracy: 0.5067 - loss: 0.6930 - val_binary_accuracy: 0.5000 - val_loss: 0.6933\n",
            "Epoch 6/50\n",
            "\u001b[1m3868/3868\u001b[0m \u001b[32m━━━━━━━━━━━━━━━━━━━━\u001b[0m\u001b[37m\u001b[0m \u001b[1m11s\u001b[0m 3ms/step - binary_accuracy: 0.5086 - loss: 0.6929 - val_binary_accuracy: 0.4993 - val_loss: 0.6934\n",
            "Epoch 7/50\n",
            "\u001b[1m3868/3868\u001b[0m \u001b[32m━━━━━━━━━━━━━━━━━━━━\u001b[0m\u001b[37m\u001b[0m \u001b[1m11s\u001b[0m 3ms/step - binary_accuracy: 0.5104 - loss: 0.6927 - val_binary_accuracy: 0.4989 - val_loss: 0.6935\n",
            "Epoch 8/50\n",
            "\u001b[1m3868/3868\u001b[0m \u001b[32m━━━━━━━━━━━━━━━━━━━━\u001b[0m\u001b[37m\u001b[0m \u001b[1m12s\u001b[0m 3ms/step - binary_accuracy: 0.5118 - loss: 0.6926 - val_binary_accuracy: 0.4993 - val_loss: 0.6936\n",
            "Epoch 9/50\n",
            "\u001b[1m3868/3868\u001b[0m \u001b[32m━━━━━━━━━━━━━━━━━━━━\u001b[0m\u001b[37m\u001b[0m \u001b[1m12s\u001b[0m 3ms/step - binary_accuracy: 0.5133 - loss: 0.6925 - val_binary_accuracy: 0.4997 - val_loss: 0.6937\n",
            "Epoch 10/50\n",
            "\u001b[1m3868/3868\u001b[0m \u001b[32m━━━━━━━━━━━━━━━━━━━━\u001b[0m\u001b[37m\u001b[0m \u001b[1m12s\u001b[0m 3ms/step - binary_accuracy: 0.5145 - loss: 0.6924 - val_binary_accuracy: 0.5001 - val_loss: 0.6938\n",
            "Epoch 11/50\n",
            "\u001b[1m3868/3868\u001b[0m \u001b[32m━━━━━━━━━━━━━━━━━━━━\u001b[0m\u001b[37m\u001b[0m \u001b[1m12s\u001b[0m 3ms/step - binary_accuracy: 0.5155 - loss: 0.6923 - val_binary_accuracy: 0.5007 - val_loss: 0.6940\n",
            "Epoch 12/50\n",
            "\u001b[1m3868/3868\u001b[0m \u001b[32m━━━━━━━━━━━━━━━━━━━━\u001b[0m\u001b[37m\u001b[0m \u001b[1m12s\u001b[0m 3ms/step - binary_accuracy: 0.5165 - loss: 0.6922 - val_binary_accuracy: 0.4999 - val_loss: 0.6941\n",
            "Epoch 13/50\n",
            "\u001b[1m3868/3868\u001b[0m \u001b[32m━━━━━━━━━━━━━━━━━━━━\u001b[0m\u001b[37m\u001b[0m \u001b[1m20s\u001b[0m 3ms/step - binary_accuracy: 0.5171 - loss: 0.6921 - val_binary_accuracy: 0.5001 - val_loss: 0.6942\n",
            "Epoch 14/50\n",
            "\u001b[1m3868/3868\u001b[0m \u001b[32m━━━━━━━━━━━━━━━━━━━━\u001b[0m\u001b[37m\u001b[0m \u001b[1m21s\u001b[0m 3ms/step - binary_accuracy: 0.5178 - loss: 0.6920 - val_binary_accuracy: 0.4999 - val_loss: 0.6943\n",
            "Epoch 15/50\n",
            "\u001b[1m3868/3868\u001b[0m \u001b[32m━━━━━━━━━━━━━━━━━━━━\u001b[0m\u001b[37m\u001b[0m \u001b[1m11s\u001b[0m 3ms/step - binary_accuracy: 0.5183 - loss: 0.6919 - val_binary_accuracy: 0.4991 - val_loss: 0.6944\n",
            "Epoch 16/50\n",
            "\u001b[1m3868/3868\u001b[0m \u001b[32m━━━━━━━━━━━━━━━━━━━━\u001b[0m\u001b[37m\u001b[0m \u001b[1m12s\u001b[0m 3ms/step - binary_accuracy: 0.5189 - loss: 0.6918 - val_binary_accuracy: 0.4999 - val_loss: 0.6945\n",
            "Epoch 17/50\n",
            "\u001b[1m3868/3868\u001b[0m \u001b[32m━━━━━━━━━━━━━━━━━━━━\u001b[0m\u001b[37m\u001b[0m \u001b[1m12s\u001b[0m 3ms/step - binary_accuracy: 0.5194 - loss: 0.6918 - val_binary_accuracy: 0.4997 - val_loss: 0.6946\n",
            "Epoch 18/50\n",
            "\u001b[1m3868/3868\u001b[0m \u001b[32m━━━━━━━━━━━━━━━━━━━━\u001b[0m\u001b[37m\u001b[0m \u001b[1m12s\u001b[0m 3ms/step - binary_accuracy: 0.5198 - loss: 0.6917 - val_binary_accuracy: 0.5003 - val_loss: 0.6946\n",
            "Epoch 19/50\n",
            "\u001b[1m3868/3868\u001b[0m \u001b[32m━━━━━━━━━━━━━━━━━━━━\u001b[0m\u001b[37m\u001b[0m \u001b[1m11s\u001b[0m 3ms/step - binary_accuracy: 0.5202 - loss: 0.6917 - val_binary_accuracy: 0.5008 - val_loss: 0.6947\n",
            "Epoch 20/50\n",
            "\u001b[1m3868/3868\u001b[0m \u001b[32m━━━━━━━━━━━━━━━━━━━━\u001b[0m\u001b[37m\u001b[0m \u001b[1m11s\u001b[0m 3ms/step - binary_accuracy: 0.5205 - loss: 0.6916 - val_binary_accuracy: 0.5009 - val_loss: 0.6948\n",
            "Epoch 21/50\n",
            "\u001b[1m3868/3868\u001b[0m \u001b[32m━━━━━━━━━━━━━━━━━━━━\u001b[0m\u001b[37m\u001b[0m \u001b[1m11s\u001b[0m 3ms/step - binary_accuracy: 0.5207 - loss: 0.6916 - val_binary_accuracy: 0.5010 - val_loss: 0.6948\n",
            "Epoch 22/50\n",
            "\u001b[1m3868/3868\u001b[0m \u001b[32m━━━━━━━━━━━━━━━━━━━━\u001b[0m\u001b[37m\u001b[0m \u001b[1m11s\u001b[0m 3ms/step - binary_accuracy: 0.5210 - loss: 0.6915 - val_binary_accuracy: 0.5008 - val_loss: 0.6949\n",
            "Epoch 23/50\n",
            "\u001b[1m3868/3868\u001b[0m \u001b[32m━━━━━━━━━━━━━━━━━━━━\u001b[0m\u001b[37m\u001b[0m \u001b[1m12s\u001b[0m 3ms/step - binary_accuracy: 0.5212 - loss: 0.6915 - val_binary_accuracy: 0.5011 - val_loss: 0.6950\n",
            "Epoch 24/50\n",
            "\u001b[1m3868/3868\u001b[0m \u001b[32m━━━━━━━━━━━━━━━━━━━━\u001b[0m\u001b[37m\u001b[0m \u001b[1m12s\u001b[0m 3ms/step - binary_accuracy: 0.5214 - loss: 0.6915 - val_binary_accuracy: 0.5017 - val_loss: 0.6950\n",
            "Epoch 25/50\n",
            "\u001b[1m3868/3868\u001b[0m \u001b[32m━━━━━━━━━━━━━━━━━━━━\u001b[0m\u001b[37m\u001b[0m \u001b[1m11s\u001b[0m 3ms/step - binary_accuracy: 0.5215 - loss: 0.6914 - val_binary_accuracy: 0.5014 - val_loss: 0.6951\n",
            "Epoch 26/50\n",
            "\u001b[1m3868/3868\u001b[0m \u001b[32m━━━━━━━━━━━━━━━━━━━━\u001b[0m\u001b[37m\u001b[0m \u001b[1m10s\u001b[0m 3ms/step - binary_accuracy: 0.5217 - loss: 0.6914 - val_binary_accuracy: 0.5006 - val_loss: 0.6952\n",
            "Epoch 27/50\n",
            "\u001b[1m3868/3868\u001b[0m \u001b[32m━━━━━━━━━━━━━━━━━━━━\u001b[0m\u001b[37m\u001b[0m \u001b[1m21s\u001b[0m 3ms/step - binary_accuracy: 0.5219 - loss: 0.6914 - val_binary_accuracy: 0.5002 - val_loss: 0.6952\n",
            "Epoch 28/50\n",
            "\u001b[1m3868/3868\u001b[0m \u001b[32m━━━━━━━━━━━━━━━━━━━━\u001b[0m\u001b[37m\u001b[0m \u001b[1m11s\u001b[0m 3ms/step - binary_accuracy: 0.5221 - loss: 0.6914 - val_binary_accuracy: 0.5006 - val_loss: 0.6952\n",
            "Epoch 29/50\n",
            "\u001b[1m3868/3868\u001b[0m \u001b[32m━━━━━━━━━━━━━━━━━━━━\u001b[0m\u001b[37m\u001b[0m \u001b[1m20s\u001b[0m 3ms/step - binary_accuracy: 0.5221 - loss: 0.6913 - val_binary_accuracy: 0.5009 - val_loss: 0.6952\n",
            "Epoch 30/50\n",
            "\u001b[1m3868/3868\u001b[0m \u001b[32m━━━━━━━━━━━━━━━━━━━━\u001b[0m\u001b[37m\u001b[0m \u001b[1m12s\u001b[0m 3ms/step - binary_accuracy: 0.5222 - loss: 0.6913 - val_binary_accuracy: 0.5008 - val_loss: 0.6953\n",
            "Epoch 31/50\n",
            "\u001b[1m3868/3868\u001b[0m \u001b[32m━━━━━━━━━━━━━━━━━━━━\u001b[0m\u001b[37m\u001b[0m \u001b[1m12s\u001b[0m 3ms/step - binary_accuracy: 0.5224 - loss: 0.6913 - val_binary_accuracy: 0.5009 - val_loss: 0.6953\n",
            "Epoch 32/50\n",
            "\u001b[1m3868/3868\u001b[0m \u001b[32m━━━━━━━━━━━━━━━━━━━━\u001b[0m\u001b[37m\u001b[0m \u001b[1m11s\u001b[0m 3ms/step - binary_accuracy: 0.5225 - loss: 0.6913 - val_binary_accuracy: 0.5006 - val_loss: 0.6954\n",
            "Epoch 33/50\n",
            "\u001b[1m3868/3868\u001b[0m \u001b[32m━━━━━━━━━━━━━━━━━━━━\u001b[0m\u001b[37m\u001b[0m \u001b[1m11s\u001b[0m 3ms/step - binary_accuracy: 0.5226 - loss: 0.6912 - val_binary_accuracy: 0.5007 - val_loss: 0.6954\n",
            "Epoch 34/50\n",
            "\u001b[1m3868/3868\u001b[0m \u001b[32m━━━━━━━━━━━━━━━━━━━━\u001b[0m\u001b[37m\u001b[0m \u001b[1m12s\u001b[0m 3ms/step - binary_accuracy: 0.5226 - loss: 0.6912 - val_binary_accuracy: 0.5007 - val_loss: 0.6955\n",
            "Epoch 35/50\n",
            "\u001b[1m3868/3868\u001b[0m \u001b[32m━━━━━━━━━━━━━━━━━━━━\u001b[0m\u001b[37m\u001b[0m \u001b[1m11s\u001b[0m 3ms/step - binary_accuracy: 0.5227 - loss: 0.6912 - val_binary_accuracy: 0.5010 - val_loss: 0.6955\n",
            "Epoch 36/50\n",
            "\u001b[1m3868/3868\u001b[0m \u001b[32m━━━━━━━━━━━━━━━━━━━━\u001b[0m\u001b[37m\u001b[0m \u001b[1m11s\u001b[0m 3ms/step - binary_accuracy: 0.5228 - loss: 0.6912 - val_binary_accuracy: 0.5008 - val_loss: 0.6956\n",
            "Epoch 37/50\n",
            "\u001b[1m3868/3868\u001b[0m \u001b[32m━━━━━━━━━━━━━━━━━━━━\u001b[0m\u001b[37m\u001b[0m \u001b[1m11s\u001b[0m 3ms/step - binary_accuracy: 0.5228 - loss: 0.6912 - val_binary_accuracy: 0.5007 - val_loss: 0.6956\n",
            "Epoch 38/50\n",
            "\u001b[1m3868/3868\u001b[0m \u001b[32m━━━━━━━━━━━━━━━━━━━━\u001b[0m\u001b[37m\u001b[0m \u001b[1m11s\u001b[0m 3ms/step - binary_accuracy: 0.5229 - loss: 0.6912 - val_binary_accuracy: 0.5009 - val_loss: 0.6956\n",
            "Epoch 39/50\n",
            "\u001b[1m3868/3868\u001b[0m \u001b[32m━━━━━━━━━━━━━━━━━━━━\u001b[0m\u001b[37m\u001b[0m \u001b[1m11s\u001b[0m 3ms/step - binary_accuracy: 0.5229 - loss: 0.6912 - val_binary_accuracy: 0.5006 - val_loss: 0.6957\n",
            "Epoch 40/50\n",
            "\u001b[1m3868/3868\u001b[0m \u001b[32m━━━━━━━━━━━━━━━━━━━━\u001b[0m\u001b[37m\u001b[0m \u001b[1m11s\u001b[0m 3ms/step - binary_accuracy: 0.5228 - loss: 0.6911 - val_binary_accuracy: 0.5011 - val_loss: 0.6957\n",
            "Epoch 41/50\n",
            "\u001b[1m3868/3868\u001b[0m \u001b[32m━━━━━━━━━━━━━━━━━━━━\u001b[0m\u001b[37m\u001b[0m \u001b[1m11s\u001b[0m 3ms/step - binary_accuracy: 0.5228 - loss: 0.6911 - val_binary_accuracy: 0.5008 - val_loss: 0.6957\n",
            "Epoch 42/50\n",
            "\u001b[1m3868/3868\u001b[0m \u001b[32m━━━━━━━━━━━━━━━━━━━━\u001b[0m\u001b[37m\u001b[0m \u001b[1m11s\u001b[0m 3ms/step - binary_accuracy: 0.5228 - loss: 0.6911 - val_binary_accuracy: 0.5009 - val_loss: 0.6958\n",
            "Epoch 43/50\n",
            "\u001b[1m3868/3868\u001b[0m \u001b[32m━━━━━━━━━━━━━━━━━━━━\u001b[0m\u001b[37m\u001b[0m \u001b[1m11s\u001b[0m 3ms/step - binary_accuracy: 0.5229 - loss: 0.6911 - val_binary_accuracy: 0.5011 - val_loss: 0.6958\n",
            "Epoch 44/50\n",
            "\u001b[1m3868/3868\u001b[0m \u001b[32m━━━━━━━━━━━━━━━━━━━━\u001b[0m\u001b[37m\u001b[0m \u001b[1m11s\u001b[0m 3ms/step - binary_accuracy: 0.5229 - loss: 0.6911 - val_binary_accuracy: 0.5009 - val_loss: 0.6958\n",
            "Epoch 45/50\n",
            "\u001b[1m3868/3868\u001b[0m \u001b[32m━━━━━━━━━━━━━━━━━━━━\u001b[0m\u001b[37m\u001b[0m \u001b[1m10s\u001b[0m 3ms/step - binary_accuracy: 0.5230 - loss: 0.6911 - val_binary_accuracy: 0.5014 - val_loss: 0.6958\n",
            "Epoch 46/50\n",
            "\u001b[1m3868/3868\u001b[0m \u001b[32m━━━━━━━━━━━━━━━━━━━━\u001b[0m\u001b[37m\u001b[0m \u001b[1m11s\u001b[0m 3ms/step - binary_accuracy: 0.5229 - loss: 0.6911 - val_binary_accuracy: 0.5010 - val_loss: 0.6959\n",
            "Epoch 47/50\n",
            "\u001b[1m3868/3868\u001b[0m \u001b[32m━━━━━━━━━━━━━━━━━━━━\u001b[0m\u001b[37m\u001b[0m \u001b[1m11s\u001b[0m 3ms/step - binary_accuracy: 0.5229 - loss: 0.6911 - val_binary_accuracy: 0.5011 - val_loss: 0.6959\n",
            "Epoch 48/50\n",
            "\u001b[1m3868/3868\u001b[0m \u001b[32m━━━━━━━━━━━━━━━━━━━━\u001b[0m\u001b[37m\u001b[0m \u001b[1m11s\u001b[0m 3ms/step - binary_accuracy: 0.5229 - loss: 0.6911 - val_binary_accuracy: 0.5011 - val_loss: 0.6959\n",
            "Epoch 49/50\n",
            "\u001b[1m3868/3868\u001b[0m \u001b[32m━━━━━━━━━━━━━━━━━━━━\u001b[0m\u001b[37m\u001b[0m \u001b[1m12s\u001b[0m 3ms/step - binary_accuracy: 0.5229 - loss: 0.6911 - val_binary_accuracy: 0.5014 - val_loss: 0.6960\n",
            "Epoch 50/50\n",
            "\u001b[1m3868/3868\u001b[0m \u001b[32m━━━━━━━━━━━━━━━━━━━━\u001b[0m\u001b[37m\u001b[0m \u001b[1m11s\u001b[0m 3ms/step - binary_accuracy: 0.5229 - loss: 0.6910 - val_binary_accuracy: 0.5011 - val_loss: 0.6960\n",
            "CPU times: user 10min 47s, sys: 53.5 s, total: 11min 40s\n",
            "Wall time: 10min 12s\n"
          ]
        }
      ]
    },
    {
      "cell_type": "code",
      "source": [
        "%%time\n",
        "my_model_trained_np = train_model(my_model_trained_np, X_train, y_train, epochs=50)"
      ],
      "metadata": {
        "id": "cHMvTnXYVepB",
        "colab": {
          "base_uri": "https://localhost:8080/"
        },
        "outputId": "4ff7e275-6210-4506-9c93-be6c803b9075"
      },
      "id": "cHMvTnXYVepB",
      "execution_count": null,
      "outputs": [
        {
          "output_type": "stream",
          "name": "stdout",
          "text": [
            "Epoch 1/50\n",
            "\u001b[1m3868/3868\u001b[0m \u001b[32m━━━━━━━━━━━━━━━━━━━━\u001b[0m\u001b[37m\u001b[0m \u001b[1m11s\u001b[0m 3ms/step - binary_accuracy: 0.5230 - loss: 0.6910 - val_binary_accuracy: 0.5012 - val_loss: 0.6960\n",
            "Epoch 2/50\n",
            "\u001b[1m3868/3868\u001b[0m \u001b[32m━━━━━━━━━━━━━━━━━━━━\u001b[0m\u001b[37m\u001b[0m \u001b[1m10s\u001b[0m 3ms/step - binary_accuracy: 0.5230 - loss: 0.6910 - val_binary_accuracy: 0.5012 - val_loss: 0.6960\n",
            "Epoch 3/50\n",
            "\u001b[1m3868/3868\u001b[0m \u001b[32m━━━━━━━━━━━━━━━━━━━━\u001b[0m\u001b[37m\u001b[0m \u001b[1m10s\u001b[0m 3ms/step - binary_accuracy: 0.5230 - loss: 0.6910 - val_binary_accuracy: 0.5014 - val_loss: 0.6960\n",
            "Epoch 4/50\n",
            "\u001b[1m3868/3868\u001b[0m \u001b[32m━━━━━━━━━━━━━━━━━━━━\u001b[0m\u001b[37m\u001b[0m \u001b[1m11s\u001b[0m 3ms/step - binary_accuracy: 0.5230 - loss: 0.6910 - val_binary_accuracy: 0.5013 - val_loss: 0.6961\n",
            "Epoch 5/50\n",
            "\u001b[1m3868/3868\u001b[0m \u001b[32m━━━━━━━━━━━━━━━━━━━━\u001b[0m\u001b[37m\u001b[0m \u001b[1m11s\u001b[0m 3ms/step - binary_accuracy: 0.5230 - loss: 0.6910 - val_binary_accuracy: 0.5008 - val_loss: 0.6961\n",
            "Epoch 6/50\n",
            "\u001b[1m3868/3868\u001b[0m \u001b[32m━━━━━━━━━━━━━━━━━━━━\u001b[0m\u001b[37m\u001b[0m \u001b[1m11s\u001b[0m 3ms/step - binary_accuracy: 0.5230 - loss: 0.6910 - val_binary_accuracy: 0.5012 - val_loss: 0.6961\n",
            "Epoch 7/50\n",
            "\u001b[1m3868/3868\u001b[0m \u001b[32m━━━━━━━━━━━━━━━━━━━━\u001b[0m\u001b[37m\u001b[0m \u001b[1m11s\u001b[0m 3ms/step - binary_accuracy: 0.5230 - loss: 0.6910 - val_binary_accuracy: 0.5013 - val_loss: 0.6962\n",
            "Epoch 8/50\n",
            "\u001b[1m3868/3868\u001b[0m \u001b[32m━━━━━━━━━━━━━━━━━━━━\u001b[0m\u001b[37m\u001b[0m \u001b[1m21s\u001b[0m 3ms/step - binary_accuracy: 0.5230 - loss: 0.6910 - val_binary_accuracy: 0.5014 - val_loss: 0.6962\n",
            "Epoch 9/50\n",
            "\u001b[1m3868/3868\u001b[0m \u001b[32m━━━━━━━━━━━━━━━━━━━━\u001b[0m\u001b[37m\u001b[0m \u001b[1m11s\u001b[0m 3ms/step - binary_accuracy: 0.5229 - loss: 0.6910 - val_binary_accuracy: 0.5004 - val_loss: 0.6962\n",
            "Epoch 10/50\n",
            "\u001b[1m3868/3868\u001b[0m \u001b[32m━━━━━━━━━━━━━━━━━━━━\u001b[0m\u001b[37m\u001b[0m \u001b[1m10s\u001b[0m 3ms/step - binary_accuracy: 0.5229 - loss: 0.6910 - val_binary_accuracy: 0.5002 - val_loss: 0.6962\n",
            "Epoch 11/50\n",
            "\u001b[1m3868/3868\u001b[0m \u001b[32m━━━━━━━━━━━━━━━━━━━━\u001b[0m\u001b[37m\u001b[0m \u001b[1m12s\u001b[0m 3ms/step - binary_accuracy: 0.5229 - loss: 0.6910 - val_binary_accuracy: 0.5004 - val_loss: 0.6963\n",
            "Epoch 12/50\n",
            "\u001b[1m3868/3868\u001b[0m \u001b[32m━━━━━━━━━━━━━━━━━━━━\u001b[0m\u001b[37m\u001b[0m \u001b[1m12s\u001b[0m 3ms/step - binary_accuracy: 0.5229 - loss: 0.6910 - val_binary_accuracy: 0.5003 - val_loss: 0.6963\n",
            "Epoch 13/50\n",
            "\u001b[1m3868/3868\u001b[0m \u001b[32m━━━━━━━━━━━━━━━━━━━━\u001b[0m\u001b[37m\u001b[0m \u001b[1m11s\u001b[0m 3ms/step - binary_accuracy: 0.5228 - loss: 0.6910 - val_binary_accuracy: 0.5007 - val_loss: 0.6963\n",
            "Epoch 14/50\n",
            "\u001b[1m3868/3868\u001b[0m \u001b[32m━━━━━━━━━━━━━━━━━━━━\u001b[0m\u001b[37m\u001b[0m \u001b[1m11s\u001b[0m 3ms/step - binary_accuracy: 0.5229 - loss: 0.6910 - val_binary_accuracy: 0.5009 - val_loss: 0.6963\n",
            "Epoch 15/50\n",
            "\u001b[1m3868/3868\u001b[0m \u001b[32m━━━━━━━━━━━━━━━━━━━━\u001b[0m\u001b[37m\u001b[0m \u001b[1m11s\u001b[0m 3ms/step - binary_accuracy: 0.5229 - loss: 0.6910 - val_binary_accuracy: 0.5003 - val_loss: 0.6964\n",
            "Epoch 16/50\n",
            "\u001b[1m3868/3868\u001b[0m \u001b[32m━━━━━━━━━━━━━━━━━━━━\u001b[0m\u001b[37m\u001b[0m \u001b[1m11s\u001b[0m 3ms/step - binary_accuracy: 0.5229 - loss: 0.6910 - val_binary_accuracy: 0.4999 - val_loss: 0.6964\n",
            "Epoch 17/50\n",
            "\u001b[1m3868/3868\u001b[0m \u001b[32m━━━━━━━━━━━━━━━━━━━━\u001b[0m\u001b[37m\u001b[0m \u001b[1m11s\u001b[0m 3ms/step - binary_accuracy: 0.5228 - loss: 0.6910 - val_binary_accuracy: 0.4999 - val_loss: 0.6964\n",
            "Epoch 18/50\n",
            "\u001b[1m3868/3868\u001b[0m \u001b[32m━━━━━━━━━━━━━━━━━━━━\u001b[0m\u001b[37m\u001b[0m \u001b[1m11s\u001b[0m 3ms/step - binary_accuracy: 0.5228 - loss: 0.6909 - val_binary_accuracy: 0.5002 - val_loss: 0.6964\n",
            "Epoch 19/50\n",
            "\u001b[1m3868/3868\u001b[0m \u001b[32m━━━━━━━━━━━━━━━━━━━━\u001b[0m\u001b[37m\u001b[0m \u001b[1m11s\u001b[0m 3ms/step - binary_accuracy: 0.5228 - loss: 0.6909 - val_binary_accuracy: 0.4999 - val_loss: 0.6964\n",
            "Epoch 20/50\n",
            "\u001b[1m3868/3868\u001b[0m \u001b[32m━━━━━━━━━━━━━━━━━━━━\u001b[0m\u001b[37m\u001b[0m \u001b[1m11s\u001b[0m 3ms/step - binary_accuracy: 0.5228 - loss: 0.6909 - val_binary_accuracy: 0.4998 - val_loss: 0.6965\n",
            "Epoch 21/50\n",
            "\u001b[1m3868/3868\u001b[0m \u001b[32m━━━━━━━━━━━━━━━━━━━━\u001b[0m\u001b[37m\u001b[0m \u001b[1m11s\u001b[0m 3ms/step - binary_accuracy: 0.5227 - loss: 0.6909 - val_binary_accuracy: 0.5003 - val_loss: 0.6965\n",
            "Epoch 22/50\n",
            "\u001b[1m3868/3868\u001b[0m \u001b[32m━━━━━━━━━━━━━━━━━━━━\u001b[0m\u001b[37m\u001b[0m \u001b[1m11s\u001b[0m 3ms/step - binary_accuracy: 0.5228 - loss: 0.6909 - val_binary_accuracy: 0.5002 - val_loss: 0.6966\n",
            "Epoch 23/50\n",
            "\u001b[1m3868/3868\u001b[0m \u001b[32m━━━━━━━━━━━━━━━━━━━━\u001b[0m\u001b[37m\u001b[0m \u001b[1m11s\u001b[0m 3ms/step - binary_accuracy: 0.5227 - loss: 0.6909 - val_binary_accuracy: 0.5004 - val_loss: 0.6966\n",
            "Epoch 24/50\n",
            "\u001b[1m3868/3868\u001b[0m \u001b[32m━━━━━━━━━━━━━━━━━━━━\u001b[0m\u001b[37m\u001b[0m \u001b[1m11s\u001b[0m 3ms/step - binary_accuracy: 0.5227 - loss: 0.6909 - val_binary_accuracy: 0.5013 - val_loss: 0.6966\n",
            "Epoch 25/50\n",
            "\u001b[1m3868/3868\u001b[0m \u001b[32m━━━━━━━━━━━━━━━━━━━━\u001b[0m\u001b[37m\u001b[0m \u001b[1m12s\u001b[0m 3ms/step - binary_accuracy: 0.5227 - loss: 0.6909 - val_binary_accuracy: 0.5009 - val_loss: 0.6967\n",
            "Epoch 26/50\n",
            "\u001b[1m3868/3868\u001b[0m \u001b[32m━━━━━━━━━━━━━━━━━━━━\u001b[0m\u001b[37m\u001b[0m \u001b[1m12s\u001b[0m 3ms/step - binary_accuracy: 0.5226 - loss: 0.6909 - val_binary_accuracy: 0.5011 - val_loss: 0.6967\n",
            "Epoch 27/50\n",
            "\u001b[1m3868/3868\u001b[0m \u001b[32m━━━━━━━━━━━━━━━━━━━━\u001b[0m\u001b[37m\u001b[0m \u001b[1m11s\u001b[0m 3ms/step - binary_accuracy: 0.5226 - loss: 0.6909 - val_binary_accuracy: 0.5013 - val_loss: 0.6967\n",
            "Epoch 28/50\n",
            "\u001b[1m3868/3868\u001b[0m \u001b[32m━━━━━━━━━━━━━━━━━━━━\u001b[0m\u001b[37m\u001b[0m \u001b[1m11s\u001b[0m 3ms/step - binary_accuracy: 0.5226 - loss: 0.6909 - val_binary_accuracy: 0.5011 - val_loss: 0.6967\n",
            "Epoch 29/50\n",
            "\u001b[1m3868/3868\u001b[0m \u001b[32m━━━━━━━━━━━━━━━━━━━━\u001b[0m\u001b[37m\u001b[0m \u001b[1m11s\u001b[0m 3ms/step - binary_accuracy: 0.5226 - loss: 0.6909 - val_binary_accuracy: 0.5013 - val_loss: 0.6968\n",
            "Epoch 30/50\n",
            "\u001b[1m3868/3868\u001b[0m \u001b[32m━━━━━━━━━━━━━━━━━━━━\u001b[0m\u001b[37m\u001b[0m \u001b[1m11s\u001b[0m 3ms/step - binary_accuracy: 0.5225 - loss: 0.6909 - val_binary_accuracy: 0.5013 - val_loss: 0.6968\n",
            "Epoch 31/50\n",
            "\u001b[1m3868/3868\u001b[0m \u001b[32m━━━━━━━━━━━━━━━━━━━━\u001b[0m\u001b[37m\u001b[0m \u001b[1m11s\u001b[0m 3ms/step - binary_accuracy: 0.5225 - loss: 0.6909 - val_binary_accuracy: 0.5012 - val_loss: 0.6968\n",
            "Epoch 32/50\n",
            "\u001b[1m3868/3868\u001b[0m \u001b[32m━━━━━━━━━━━━━━━━━━━━\u001b[0m\u001b[37m\u001b[0m \u001b[1m11s\u001b[0m 3ms/step - binary_accuracy: 0.5225 - loss: 0.6909 - val_binary_accuracy: 0.5012 - val_loss: 0.6968\n",
            "Epoch 33/50\n",
            "\u001b[1m3868/3868\u001b[0m \u001b[32m━━━━━━━━━━━━━━━━━━━━\u001b[0m\u001b[37m\u001b[0m \u001b[1m11s\u001b[0m 3ms/step - binary_accuracy: 0.5224 - loss: 0.6909 - val_binary_accuracy: 0.5009 - val_loss: 0.6969\n",
            "Epoch 34/50\n",
            "\u001b[1m3868/3868\u001b[0m \u001b[32m━━━━━━━━━━━━━━━━━━━━\u001b[0m\u001b[37m\u001b[0m \u001b[1m11s\u001b[0m 3ms/step - binary_accuracy: 0.5224 - loss: 0.6909 - val_binary_accuracy: 0.5011 - val_loss: 0.6968\n",
            "Epoch 35/50\n",
            "\u001b[1m3868/3868\u001b[0m \u001b[32m━━━━━━━━━━━━━━━━━━━━\u001b[0m\u001b[37m\u001b[0m \u001b[1m11s\u001b[0m 3ms/step - binary_accuracy: 0.5224 - loss: 0.6909 - val_binary_accuracy: 0.5008 - val_loss: 0.6969\n",
            "Epoch 36/50\n",
            "\u001b[1m3868/3868\u001b[0m \u001b[32m━━━━━━━━━━━━━━━━━━━━\u001b[0m\u001b[37m\u001b[0m \u001b[1m11s\u001b[0m 3ms/step - binary_accuracy: 0.5223 - loss: 0.6909 - val_binary_accuracy: 0.5014 - val_loss: 0.6969\n",
            "Epoch 37/50\n",
            "\u001b[1m3868/3868\u001b[0m \u001b[32m━━━━━━━━━━━━━━━━━━━━\u001b[0m\u001b[37m\u001b[0m \u001b[1m12s\u001b[0m 3ms/step - binary_accuracy: 0.5223 - loss: 0.6909 - val_binary_accuracy: 0.5013 - val_loss: 0.6970\n",
            "Epoch 38/50\n",
            "\u001b[1m3868/3868\u001b[0m \u001b[32m━━━━━━━━━━━━━━━━━━━━\u001b[0m\u001b[37m\u001b[0m \u001b[1m11s\u001b[0m 3ms/step - binary_accuracy: 0.5222 - loss: 0.6909 - val_binary_accuracy: 0.5011 - val_loss: 0.6970\n",
            "Epoch 39/50\n",
            "\u001b[1m3868/3868\u001b[0m \u001b[32m━━━━━━━━━━━━━━━━━━━━\u001b[0m\u001b[37m\u001b[0m \u001b[1m11s\u001b[0m 3ms/step - binary_accuracy: 0.5222 - loss: 0.6909 - val_binary_accuracy: 0.5015 - val_loss: 0.6970\n",
            "Epoch 40/50\n",
            "\u001b[1m3868/3868\u001b[0m \u001b[32m━━━━━━━━━━━━━━━━━━━━\u001b[0m\u001b[37m\u001b[0m \u001b[1m11s\u001b[0m 3ms/step - binary_accuracy: 0.5221 - loss: 0.6909 - val_binary_accuracy: 0.5013 - val_loss: 0.6970\n",
            "Epoch 41/50\n",
            "\u001b[1m3868/3868\u001b[0m \u001b[32m━━━━━━━━━━━━━━━━━━━━\u001b[0m\u001b[37m\u001b[0m \u001b[1m12s\u001b[0m 3ms/step - binary_accuracy: 0.5221 - loss: 0.6909 - val_binary_accuracy: 0.5012 - val_loss: 0.6970\n",
            "Epoch 42/50\n",
            "\u001b[1m3868/3868\u001b[0m \u001b[32m━━━━━━━━━━━━━━━━━━━━\u001b[0m\u001b[37m\u001b[0m \u001b[1m12s\u001b[0m 3ms/step - binary_accuracy: 0.5220 - loss: 0.6909 - val_binary_accuracy: 0.5008 - val_loss: 0.6970\n",
            "Epoch 43/50\n",
            "\u001b[1m3868/3868\u001b[0m \u001b[32m━━━━━━━━━━━━━━━━━━━━\u001b[0m\u001b[37m\u001b[0m \u001b[1m20s\u001b[0m 3ms/step - binary_accuracy: 0.5220 - loss: 0.6909 - val_binary_accuracy: 0.5008 - val_loss: 0.6970\n",
            "Epoch 44/50\n",
            "\u001b[1m3868/3868\u001b[0m \u001b[32m━━━━━━━━━━━━━━━━━━━━\u001b[0m\u001b[37m\u001b[0m \u001b[1m11s\u001b[0m 3ms/step - binary_accuracy: 0.5220 - loss: 0.6909 - val_binary_accuracy: 0.5009 - val_loss: 0.6971\n",
            "Epoch 45/50\n",
            "\u001b[1m3868/3868\u001b[0m \u001b[32m━━━━━━━━━━━━━━━━━━━━\u001b[0m\u001b[37m\u001b[0m \u001b[1m11s\u001b[0m 3ms/step - binary_accuracy: 0.5219 - loss: 0.6909 - val_binary_accuracy: 0.5006 - val_loss: 0.6971\n",
            "Epoch 46/50\n",
            "\u001b[1m3868/3868\u001b[0m \u001b[32m━━━━━━━━━━━━━━━━━━━━\u001b[0m\u001b[37m\u001b[0m \u001b[1m11s\u001b[0m 3ms/step - binary_accuracy: 0.5218 - loss: 0.6909 - val_binary_accuracy: 0.5005 - val_loss: 0.6971\n",
            "Epoch 47/50\n",
            "\u001b[1m3868/3868\u001b[0m \u001b[32m━━━━━━━━━━━━━━━━━━━━\u001b[0m\u001b[37m\u001b[0m \u001b[1m11s\u001b[0m 3ms/step - binary_accuracy: 0.5218 - loss: 0.6909 - val_binary_accuracy: 0.5003 - val_loss: 0.6971\n",
            "Epoch 48/50\n",
            "\u001b[1m3868/3868\u001b[0m \u001b[32m━━━━━━━━━━━━━━━━━━━━\u001b[0m\u001b[37m\u001b[0m \u001b[1m11s\u001b[0m 3ms/step - binary_accuracy: 0.5217 - loss: 0.6909 - val_binary_accuracy: 0.5003 - val_loss: 0.6971\n",
            "Epoch 49/50\n",
            "\u001b[1m3868/3868\u001b[0m \u001b[32m━━━━━━━━━━━━━━━━━━━━\u001b[0m\u001b[37m\u001b[0m \u001b[1m11s\u001b[0m 3ms/step - binary_accuracy: 0.5217 - loss: 0.6909 - val_binary_accuracy: 0.5002 - val_loss: 0.6972\n",
            "Epoch 50/50\n",
            "\u001b[1m3868/3868\u001b[0m \u001b[32m━━━━━━━━━━━━━━━━━━━━\u001b[0m\u001b[37m\u001b[0m \u001b[1m11s\u001b[0m 3ms/step - binary_accuracy: 0.5217 - loss: 0.6909 - val_binary_accuracy: 0.5002 - val_loss: 0.6972\n",
            "CPU times: user 10min 36s, sys: 52 s, total: 11min 28s\n",
            "Wall time: 9min 49s\n"
          ]
        }
      ]
    },
    {
      "cell_type": "code",
      "source": [],
      "metadata": {
        "id": "WDUnQrbu5fxP"
      },
      "id": "WDUnQrbu5fxP",
      "execution_count": null,
      "outputs": []
    },
    {
      "cell_type": "code",
      "metadata": {
        "colab": {
          "base_uri": "https://localhost:8080/"
        },
        "id": "6bfa7793",
        "outputId": "2e151b94-c5e1-482a-d06c-068acf36a88a"
      },
      "source": [
        "from tensorflow.keras.models import load_model\n",
        "\n",
        "# Load the saved model\n",
        "loaded_model = load_model(\"xorshift128_model.keras\")"
      ],
      "id": "6bfa7793",
      "execution_count": null,
      "outputs": [
        {
          "output_type": "stream",
          "name": "stderr",
          "text": [
            "/usr/local/lib/python3.12/dist-packages/keras/src/saving/saving_lib.py:802: UserWarning: Skipping variable loading for optimizer 'rmsprop', because it has 6 variables whereas the saved optimizer has 11 variables. \n",
            "  saveable.load_own_variables(weights_store.get(inner_path))\n"
          ]
        }
      ]
    },
    {
      "cell_type": "code",
      "source": [],
      "metadata": {
        "id": "FMKUKTLs9ZF0"
      },
      "id": "FMKUKTLs9ZF0",
      "execution_count": null,
      "outputs": []
    },
    {
      "cell_type": "code",
      "source": [],
      "metadata": {
        "id": "2BqOT-od9FLM"
      },
      "id": "2BqOT-od9FLM",
      "execution_count": null,
      "outputs": []
    },
    {
      "cell_type": "markdown",
      "metadata": {
        "id": "e55fd4df"
      },
      "source": [
        "# Task\n",
        "Plot the training and validation accuracy from the training history, and calculate and display the bit-wise accuracy of the model's predictions on the test set."
      ],
      "id": "e55fd4df"
    },
    {
      "cell_type": "markdown",
      "metadata": {
        "id": "1cea08ed"
      },
      "source": [
        "## Extract training history\n",
        "\n",
        "### Subtask:\n",
        "Get the training history from the trained model.\n"
      ],
      "id": "1cea08ed"
    },
    {
      "cell_type": "markdown",
      "metadata": {
        "id": "35111e42"
      },
      "source": [
        "**Reasoning**:\n",
        "Access the training history from the trained model.\n",
        "\n"
      ],
      "id": "35111e42"
    },
    {
      "cell_type": "code",
      "metadata": {
        "id": "8afe2942"
      },
      "source": [
        "history_np = my_model_trained_np.history"
      ],
      "id": "8afe2942",
      "execution_count": null,
      "outputs": []
    },
    {
      "cell_type": "markdown",
      "metadata": {
        "id": "a8f9cf32"
      },
      "source": [
        "## Plot accuracy\n",
        "\n",
        "### Subtask:\n",
        "Plot the training and validation accuracy over epochs.\n"
      ],
      "id": "a8f9cf32"
    },
    {
      "cell_type": "markdown",
      "metadata": {
        "id": "9c67caeb"
      },
      "source": [
        "**Reasoning**:\n",
        "Extract the training and validation accuracy from the history and plot them over epochs.\n",
        "\n"
      ],
      "id": "9c67caeb"
    },
    {
      "cell_type": "code",
      "metadata": {
        "colab": {
          "base_uri": "https://localhost:8080/",
          "height": 458
        },
        "id": "h8h2yrvG62ye",
        "outputId": "b8a02b93-ee6b-421d-c83d-1e6def5dd5a0"
      },
      "source": [
        "import matplotlib.pyplot as plt\n",
        "\n",
        "# Extract accuracy values\n",
        "train_accuracy = history_np.history['binary_accuracy']\n",
        "val_accuracy = history_np.history['val_binary_accuracy']\n",
        "\n",
        "# Plot training and validation accuracy\n",
        "plt.figure(figsize=(10, 6))\n",
        "plt.plot(train_accuracy, label='Training Accuracy')\n",
        "plt.plot(val_accuracy, label='Validation Accuracy')\n",
        "plt.ylim(0,1)\n",
        "plt.title('Model Accuracy over Epochs')\n",
        "plt.xlabel('Epoch')\n",
        "plt.ylabel('Accuracy')\n",
        "plt.legend()\n",
        "plt.show()"
      ],
      "id": "h8h2yrvG62ye",
      "execution_count": null,
      "outputs": [
        {
          "output_type": "display_data",
          "data": {
            "text/plain": [
              "<Figure size 1000x600 with 1 Axes>"
            ],
            "image/png": "[encoded data removed]"
          },
          "metadata": {}
        }
      ]
    },
    {
      "cell_type": "markdown",
      "metadata": {
        "id": "b908efa1"
      },
      "source": [
        "## Make predictions\n",
        "\n",
        "### Subtask:\n",
        "Use the trained model to make predictions on the test set.\n"
      ],
      "id": "b908efa1"
    },
    {
      "cell_type": "markdown",
      "metadata": {
        "id": "bbde280c"
      },
      "source": [
        "**Reasoning**:\n",
        "Use the trained model to make predictions on the test set.\n",
        "\n"
      ],
      "id": "bbde280c"
    },
    {
      "cell_type": "code",
      "metadata": {
        "colab": {
          "base_uri": "https://localhost:8080/"
        },
        "id": "2725e190",
        "outputId": "432eeac9-53be-413d-fe2a-deea97e58964"
      },
      "source": [
        "y_pred = my_model_trained_np.predict(X_test)"
      ],
      "id": "2725e190",
      "execution_count": null,
      "outputs": [
        {
          "output_type": "stream",
          "name": "stdout",
          "text": [
            "\u001b[1m313/313\u001b[0m \u001b[32m━━━━━━━━━━━━━━━━━━━━\u001b[0m\u001b[37m\u001b[0m \u001b[1m1s\u001b[0m 2ms/step\n"
          ]
        }
      ]
    },
    {
      "cell_type": "markdown",
      "metadata": {
        "id": "dd304594"
      },
      "source": [
        "## Compare predictions to actuals\n",
        "\n",
        "### Subtask:\n",
        "Compare the predicted bits to the actual bits in the test set.\n"
      ],
      "id": "dd304594"
    },
    {
      "cell_type": "markdown",
      "metadata": {
        "id": "65d23b5b"
      },
      "source": [
        "**Reasoning**:\n",
        "Convert the predicted probabilities to binary predictions and ensure the shape matches the actual test labels.\n",
        "\n"
      ],
      "id": "65d23b5b"
    },
    {
      "cell_type": "code",
      "metadata": {
        "colab": {
          "base_uri": "https://localhost:8080/"
        },
        "id": "68ba304b",
        "outputId": "91c9585a-fccc-462a-e2a3-9b7490e228c1"
      },
      "source": [
        "y_pred_binary = (y_pred > 0.5).astype(int)\n",
        "print(\"Shape of binary predictions:\", y_pred_binary.shape)\n",
        "print(\"Shape of actual test labels:\", y_test.shape)"
      ],
      "id": "68ba304b",
      "execution_count": null,
      "outputs": [
        {
          "output_type": "stream",
          "name": "stdout",
          "text": [
            "Shape of binary predictions: (10000, 32)\n",
            "Shape of actual test labels: (10000, 32)\n"
          ]
        }
      ]
    },
    {
      "cell_type": "markdown",
      "metadata": {
        "id": "2a9b020a"
      },
      "source": [
        "## Calculate bit-wise accuracy\n",
        "\n",
        "### Subtask:\n",
        "Calculate the accuracy for each bit position.\n"
      ],
      "id": "2a9b020a"
    },
    {
      "cell_type": "markdown",
      "metadata": {
        "id": "8d32a19e"
      },
      "source": [
        "**Reasoning**:\n",
        "Calculate the number of correct predictions for each bit position and then calculate the accuracy for each bit position.\n",
        "\n"
      ],
      "id": "8d32a19e"
    },
    {
      "cell_type": "code",
      "metadata": {
        "colab": {
          "base_uri": "https://localhost:8080/"
        },
        "id": "b0142c69",
        "outputId": "51f54db7-1c71-4fa8-b278-09c2b8dec6c3"
      },
      "source": [
        "correct_predictions_per_bit = np.sum(y_pred_binary == y_test, axis=0)\n",
        "bit_wise_accuracy = correct_predictions_per_bit / y_test.shape[0]\n",
        "print(\"Bit-wise accuracy:\", bit_wise_accuracy)"
      ],
      "id": "b0142c69",
      "execution_count": null,
      "outputs": [
        {
          "output_type": "stream",
          "name": "stdout",
          "text": [
            "Bit-wise accuracy: [0.4972 0.4992 0.5014 0.5022 0.5156 0.4955 0.4976 0.4994 0.505  0.4962\n",
            " 0.5087 0.5028 0.4977 0.5048 0.4985 0.4963 0.503  0.5046 0.5032 0.4901\n",
            " 0.5003 0.501  0.4972 0.5011 0.4961 0.497  0.5007 0.4947 0.5    0.5025\n",
            " 0.506  0.4922]\n"
          ]
        }
      ]
    },
    {
      "cell_type": "markdown",
      "metadata": {
        "id": "9c5e4083"
      },
      "source": [
        "## Display bit-wise accuracy\n",
        "\n",
        "### Subtask:\n",
        "Show the accuracy for each bit, perhaps in a table or as a percentage.\n"
      ],
      "id": "9c5e4083"
    },
    {
      "cell_type": "code",
      "metadata": {
        "colab": {
          "base_uri": "https://localhost:8080/",
          "height": 207
        },
        "id": "f550d12c",
        "outputId": "cec8efa4-0565-4fb0-bd61-982f93236ba3"
      },
      "source": [
        "import seaborn as sns\n",
        "import matplotlib.pyplot as plt\n",
        "\n",
        "plt.figure(figsize=(12, 2))\n",
        "sns.heatmap(bit_wise_accuracy.reshape(1, -1), annot=True, cmap='viridis', fmt=\".4f\", yticklabels=False, annot_kws={'rotation': 90})\n",
        "plt.title('Bit-wise Accuracy Heatmap')\n",
        "plt.xlabel('Bit Position')\n",
        "plt.show()"
      ],
      "id": "f550d12c",
      "execution_count": null,
      "outputs": [
        {
          "output_type": "display_data",
          "data": {
            "text/plain": [
              "<Figure size 1200x200 with 2 Axes>"
            ],
            "image/png": "[encoded data removed]"
          },
          "metadata": {}
        }
      ]
    },
    {
      "cell_type": "markdown",
      "metadata": {
        "id": "399160f8"
      },
      "source": [
        "**Reasoning**:\n",
        "Create a pandas DataFrame to display the bit-wise accuracy with appropriate column names and then print it.\n",
        "\n"
      ],
      "id": "399160f8"
    },
    {
      "cell_type": "code",
      "metadata": {
        "colab": {
          "base_uri": "https://localhost:8080/",
          "height": 1000
        },
        "id": "2ef49d8e",
        "outputId": "f4f540eb-a9d0-4c68-a16b-7b22bc1853ce"
      },
      "source": [
        "bit_accuracy_df = pd.DataFrame({\n",
        "    'Bit Position': np.arange(BIT_WIDTH),\n",
        "    'Accuracy': bit_wise_accuracy\n",
        "})\n",
        "display(bit_accuracy_df)"
      ],
      "id": "2ef49d8e",
      "execution_count": null,
      "outputs": [
        {
          "output_type": "display_data",
          "data": {
            "text/plain": [
              "    Bit Position  Accuracy\n",
              "0              0    0.4972\n",
              "1              1    0.4992\n",
              "2              2    0.5014\n",
              "3              3    0.5022\n",
              "4              4    0.5156\n",
              "5              5    0.4955\n",
              "6              6    0.4976\n",
              "7              7    0.4994\n",
              "8              8    0.5050\n",
              "9              9    0.4962\n",
              "10            10    0.5087\n",
              "11            11    0.5028\n",
              "12            12    0.4977\n",
              "13            13    0.5048\n",
              "14            14    0.4985\n",
              "15            15    0.4963\n",
              "16            16    0.5030\n",
              "17            17    0.5046\n",
              "18            18    0.5032\n",
              "19            19    0.4901\n",
              "20            20    0.5003\n",
              "21            21    0.5010\n",
              "22            22    0.4972\n",
              "23            23    0.5011\n",
              "24            24    0.4961\n",
              "25            25    0.4970\n",
              "26            26    0.5007\n",
              "27            27    0.4947\n",
              "28            28    0.5000\n",
              "29            29    0.5025\n",
              "30            30    0.5060\n",
              "31            31    0.4922"
            ],
            "text/html": [
              "\n",
              "  <div id=\"df-a426046b-e61f-463d-9d16-1fae905f3ab8\" class=\"colab-df-container\">\n",
              "    <div>\n",
              "<style scoped>\n",
              "    .dataframe tbody tr th:only-of-type {\n",
              "        vertical-align: middle;\n",
              "    }\n",
              "\n",
              "    .dataframe tbody tr th {\n",
              "        vertical-align: top;\n",
              "    }\n",
              "\n",
              "    .dataframe thead th {\n",
              "        text-align: right;\n",
              "    }\n",
              "</style>\n",
              "<table border=\"1\" class=\"dataframe\">\n",
              "  <thead>\n",
              "    <tr style=\"text-align: right;\">\n",
              "      <th></th>\n",
              "      <th>Bit Position</th>\n",
              "      <th>Accuracy</th>\n",
              "    </tr>\n",
              "  </thead>\n",
              "  <tbody>\n",
              "    <tr>\n",
              "      <th>0</th>\n",
              "      <td>0</td>\n",
              "      <td>0.4972</td>\n",
              "    </tr>\n",
              "    <tr>\n",
              "      <th>1</th>\n",
              "      <td>1</td>\n",
              "      <td>0.4992</td>\n",
              "    </tr>\n",
              "    <tr>\n",
              "      <th>2</th>\n",
              "      <td>2</td>\n",
              "      <td>0.5014</td>\n",
              "    </tr>\n",
              "    <tr>\n",
              "      <th>3</th>\n",
              "      <td>3</td>\n",
              "      <td>0.5022</td>\n",
              "    </tr>\n",
              "    <tr>\n",
              "      <th>4</th>\n",
              "      <td>4</td>\n",
              "      <td>0.5156</td>\n",
              "    </tr>\n",
              "    <tr>\n",
              "      <th>5</th>\n",
              "      <td>5</td>\n",
              "      <td>0.4955</td>\n",
              "    </tr>\n",
              "    <tr>\n",
              "      <th>6</th>\n",
              "      <td>6</td>\n",
              "      <td>0.4976</td>\n",
              "    </tr>\n",
              "    <tr>\n",
              "      <th>7</th>\n",
              "      <td>7</td>\n",
              "      <td>0.4994</td>\n",
              "    </tr>\n",
              "    <tr>\n",
              "      <th>8</th>\n",
              "      <td>8</td>\n",
              "      <td>0.5050</td>\n",
              "    </tr>\n",
              "    <tr>\n",
              "      <th>9</th>\n",
              "      <td>9</td>\n",
              "      <td>0.4962</td>\n",
              "    </tr>\n",
              "    <tr>\n",
              "      <th>10</th>\n",
              "      <td>10</td>\n",
              "      <td>0.5087</td>\n",
              "    </tr>\n",
              "    <tr>\n",
              "      <th>11</th>\n",
              "      <td>11</td>\n",
              "      <td>0.5028</td>\n",
              "    </tr>\n",
              "    <tr>\n",
              "      <th>12</th>\n",
              "      <td>12</td>\n",
              "      <td>0.4977</td>\n",
              "    </tr>\n",
              "    <tr>\n",
              "      <th>13</th>\n",
              "      <td>13</td>\n",
              "      <td>0.5048</td>\n",
              "    </tr>\n",
              "    <tr>\n",
              "      <th>14</th>\n",
              "      <td>14</td>\n",
              "      <td>0.4985</td>\n",
              "    </tr>\n",
              "    <tr>\n",
              "      <th>15</th>\n",
              "      <td>15</td>\n",
              "      <td>0.4963</td>\n",
              "    </tr>\n",
              "    <tr>\n",
              "      <th>16</th>\n",
              "      <td>16</td>\n",
              "      <td>0.5030</td>\n",
              "    </tr>\n",
              "    <tr>\n",
              "      <th>17</th>\n",
              "      <td>17</td>\n",
              "      <td>0.5046</td>\n",
              "    </tr>\n",
              "    <tr>\n",
              "      <th>18</th>\n",
              "      <td>18</td>\n",
              "      <td>0.5032</td>\n",
              "    </tr>\n",
              "    <tr>\n",
              "      <th>19</th>\n",
              "      <td>19</td>\n",
              "      <td>0.4901</td>\n",
              "    </tr>\n",
              "    <tr>\n",
              "      <th>20</th>\n",
              "      <td>20</td>\n",
              "      <td>0.5003</td>\n",
              "    </tr>\n",
              "    <tr>\n",
              "      <th>21</th>\n",
              "      <td>21</td>\n",
              "      <td>0.5010</td>\n",
              "    </tr>\n",
              "    <tr>\n",
              "      <th>22</th>\n",
              "      <td>22</td>\n",
              "      <td>0.4972</td>\n",
              "    </tr>\n",
              "    <tr>\n",
              "      <th>23</th>\n",
              "      <td>23</td>\n",
              "      <td>0.5011</td>\n",
              "    </tr>\n",
              "    <tr>\n",
              "      <th>24</th>\n",
              "      <td>24</td>\n",
              "      <td>0.4961</td>\n",
              "    </tr>\n",
              "    <tr>\n",
              "      <th>25</th>\n",
              "      <td>25</td>\n",
              "      <td>0.4970</td>\n",
              "    </tr>\n",
              "    <tr>\n",
              "      <th>26</th>\n",
              "      <td>26</td>\n",
              "      <td>0.5007</td>\n",
              "    </tr>\n",
              "    <tr>\n",
              "      <th>27</th>\n",
              "      <td>27</td>\n",
              "      <td>0.4947</td>\n",
              "    </tr>\n",
              "    <tr>\n",
              "      <th>28</th>\n",
              "      <td>28</td>\n",
              "      <td>0.5000</td>\n",
              "    </tr>\n",
              "    <tr>\n",
              "      <th>29</th>\n",
              "      <td>29</td>\n",
              "      <td>0.5025</td>\n",
              "    </tr>\n",
              "    <tr>\n",
              "      <th>30</th>\n",
              "      <td>30</td>\n",
              "      <td>0.5060</td>\n",
              "    </tr>\n",
              "    <tr>\n",
              "      <th>31</th>\n",
              "      <td>31</td>\n",
              "      <td>0.4922</td>\n",
              "    </tr>\n",
              "  </tbody>\n",
              "</table>\n",
              "</div>\n",
              "    <div class=\"colab-df-buttons\">\n",
              "\n",
              "  <div class=\"colab-df-container\">\n",
              "    <button class=\"colab-df-convert\" onclick=\"convertToInteractive('df-a426046b-e61f-463d-9d16-1fae905f3ab8')\"\n",
              "            title=\"Convert this dataframe to an interactive table.\"\n",
              "            style=\"display:none;\">\n",
              "\n",
              "  <svg xmlns=\"http://www.w3.org/2000/svg\" height=\"24px\" viewBox=\"0 -960 960 960\">\n",
              "    <path d=\"M120-120v-720h720v720H120Zm60-500h600v-160H180v160Zm220 220h160v-160H400v160Zm0 220h160v-160H400v160ZM180-400h160v-160H180v160Zm440 0h160v-160H620v160ZM180-180h160v-160H180v160Zm440 0h160v-160H620v160Z\"/>\n",
              "  </svg>\n",
              "    </button>\n",
              "\n",
              "  <style>\n",
              "    .colab-df-container {\n",
              "      display:flex;\n",
              "      gap: 12px;\n",
              "    }\n",
              "\n",
              "    .colab-df-convert {\n",
              "      background-color: #E8F0FE;\n",
              "      border: none;\n",
              "      border-radius: 50%;\n",
              "      cursor: pointer;\n",
              "      display: none;\n",
              "      fill: #1967D2;\n",
              "      height: 32px;\n",
              "      padding: 0 0 0 0;\n",
              "      width: 32px;\n",
              "    }\n",
              "\n",
              "    .colab-df-convert:hover {\n",
              "      background-color: #E2EBFA;\n",
              "      box-shadow: 0px 1px 2px rgba(60, 64, 67, 0.3), 0px 1px 3px 1px rgba(60, 64, 67, 0.15);\n",
              "      fill: #174EA6;\n",
              "    }\n",
              "\n",
              "    .colab-df-buttons div {\n",
              "      margin-bottom: 4px;\n",
              "    }\n",
              "\n",
              "    [theme=dark] .colab-df-convert {\n",
              "      background-color: #3B4455;\n",
              "      fill: #D2E3FC;\n",
              "    }\n",
              "\n",
              "    [theme=dark] .colab-df-convert:hover {\n",
              "      background-color: #434B5C;\n",
              "      box-shadow: 0px 1px 3px 1px rgba(0, 0, 0, 0.15);\n",
              "      filter: drop-shadow(0px 1px 2px rgba(0, 0, 0, 0.3));\n",
              "      fill: #FFFFFF;\n",
              "    }\n",
              "  </style>\n",
              "\n",
              "    <script>\n",
              "      const buttonEl =\n",
              "        document.querySelector('#df-a426046b-e61f-463d-9d16-1fae905f3ab8 button.colab-df-convert');\n",
              "      buttonEl.style.display =\n",
              "        google.colab.kernel.accessAllowed ? 'block' : 'none';\n",
              "\n",
              "      async function convertToInteractive(key) {\n",
              "        const element = document.querySelector('#df-a426046b-e61f-463d-9d16-1fae905f3ab8');\n",
              "        const dataTable =\n",
              "          await google.colab.kernel.invokeFunction('convertToInteractive',\n",
              "                                                    [key], {});\n",
              "        if (!dataTable) return;\n",
              "\n",
              "        const docLinkHtml = 'Like what you see? Visit the ' +\n",
              "          '<a target=\"_blank\" href=https://colab.research.google.com/notebooks/data_table.ipynb>data table notebook</a>'\n",
              "          + ' to learn more about interactive tables.';\n",
              "        element.innerHTML = '';\n",
              "        dataTable['output_type'] = 'display_data';\n",
              "        await google.colab.output.renderOutput(dataTable, element);\n",
              "        const docLink = document.createElement('div');\n",
              "        docLink.innerHTML = docLinkHtml;\n",
              "        element.appendChild(docLink);\n",
              "      }\n",
              "    </script>\n",
              "  </div>\n",
              "\n",
              "\n",
              "    <div id=\"df-7201c83f-0759-4528-8403-13d7394b5996\">\n",
              "      <button class=\"colab-df-quickchart\" onclick=\"quickchart('df-7201c83f-0759-4528-8403-13d7394b5996')\"\n",
              "                title=\"Suggest charts\"\n",
              "                style=\"display:none;\">\n",
              "\n",
              "<svg xmlns=\"http://www.w3.org/2000/svg\" height=\"24px\"viewBox=\"0 0 24 24\"\n",
              "     width=\"24px\">\n",
              "    <g>\n",
              "        <path d=\"M19 3H5c-1.1 0-2 .9-2 2v14c0 1.1.9 2 2 2h14c1.1 0 2-.9 2-2V5c0-1.1-.9-2-2-2zM9 17H7v-7h2v7zm4 0h-2V7h2v10zm4 0h-2v-4h2v4z\"/>\n",
              "    </g>\n",
              "</svg>\n",
              "      </button>\n",
              "\n",
              "<style>\n",
              "  .colab-df-quickchart {\n",
              "      --bg-color: #E8F0FE;\n",
              "      --fill-color: #1967D2;\n",
              "      --hover-bg-color: #E2EBFA;\n",
              "      --hover-fill-color: #174EA6;\n",
              "      --disabled-fill-color: #AAA;\n",
              "      --disabled-bg-color: #DDD;\n",
              "  }\n",
              "\n",
              "  [theme=dark] .colab-df-quickchart {\n",
              "      --bg-color: #3B4455;\n",
              "      --fill-color: #D2E3FC;\n",
              "      --hover-bg-color: #434B5C;\n",
              "      --hover-fill-color: #FFFFFF;\n",
              "      --disabled-bg-color: #3B4455;\n",
              "      --disabled-fill-color: #666;\n",
              "  }\n",
              "\n",
              "  .colab-df-quickchart {\n",
              "    background-color: var(--bg-color);\n",
              "    border: none;\n",
              "    border-radius: 50%;\n",
              "    cursor: pointer;\n",
              "    display: none;\n",
              "    fill: var(--fill-color);\n",
              "    height: 32px;\n",
              "    padding: 0;\n",
              "    width: 32px;\n",
              "  }\n",
              "\n",
              "  .colab-df-quickchart:hover {\n",
              "    background-color: var(--hover-bg-color);\n",
              "    box-shadow: 0 1px 2px rgba(60, 64, 67, 0.3), 0 1px 3px 1px rgba(60, 64, 67, 0.15);\n",
              "    fill: var(--button-hover-fill-color);\n",
              "  }\n",
              "\n",
              "  .colab-df-quickchart-complete:disabled,\n",
              "  .colab-df-quickchart-complete:disabled:hover {\n",
              "    background-color: var(--disabled-bg-color);\n",
              "    fill: var(--disabled-fill-color);\n",
              "    box-shadow: none;\n",
              "  }\n",
              "\n",
              "  .colab-df-spinner {\n",
              "    border: 2px solid var(--fill-color);\n",
              "    border-color: transparent;\n",
              "    border-bottom-color: var(--fill-color);\n",
              "    animation:\n",
              "      spin 1s steps(1) infinite;\n",
              "  }\n",
              "\n",
              "  @keyframes spin {\n",
              "    0% {\n",
              "      border-color: transparent;\n",
              "      border-bottom-color: var(--fill-color);\n",
              "      border-left-color: var(--fill-color);\n",
              "    }\n",
              "    20% {\n",
              "      border-color: transparent;\n",
              "      border-left-color: var(--fill-color);\n",
              "      border-top-color: var(--fill-color);\n",
              "    }\n",
              "    30% {\n",
              "      border-color: transparent;\n",
              "      border-left-color: var(--fill-color);\n",
              "      border-top-color: var(--fill-color);\n",
              "      border-right-color: var(--fill-color);\n",
              "    }\n",
              "    40% {\n",
              "      border-color: transparent;\n",
              "      border-right-color: var(--fill-color);\n",
              "      border-top-color: var(--fill-color);\n",
              "    }\n",
              "    60% {\n",
              "      border-color: transparent;\n",
              "      border-right-color: var(--fill-color);\n",
              "    }\n",
              "    80% {\n",
              "      border-color: transparent;\n",
              "      border-right-color: var(--fill-color);\n",
              "      border-bottom-color: var(--fill-color);\n",
              "    }\n",
              "    90% {\n",
              "      border-color: transparent;\n",
              "      border-bottom-color: var(--fill-color);\n",
              "    }\n",
              "  }\n",
              "</style>\n",
              "\n",
              "      <script>\n",
              "        async function quickchart(key) {\n",
              "          const quickchartButtonEl =\n",
              "            document.querySelector('#' + key + ' button');\n",
              "          quickchartButtonEl.disabled = true;  // To prevent multiple clicks.\n",
              "          quickchartButtonEl.classList.add('colab-df-spinner');\n",
              "          try {\n",
              "            const charts = await google.colab.kernel.invokeFunction(\n",
              "                'suggestCharts', [key], {});\n",
              "          } catch (error) {\n",
              "            console.error('Error during call to suggestCharts:', error);\n",
              "          }\n",
              "          quickchartButtonEl.classList.remove('colab-df-spinner');\n",
              "          quickchartButtonEl.classList.add('colab-df-quickchart-complete');\n",
              "        }\n",
              "        (() => {\n",
              "          let quickchartButtonEl =\n",
              "            document.querySelector('#df-7201c83f-0759-4528-8403-13d7394b5996 button');\n",
              "          quickchartButtonEl.style.display =\n",
              "            google.colab.kernel.accessAllowed ? 'block' : 'none';\n",
              "        })();\n",
              "      </script>\n",
              "    </div>\n",
              "\n",
              "  <div id=\"id_392b4c73-fcb4-4c16-a136-b2b84509e353\">\n",
              "    <style>\n",
              "      .colab-df-generate {\n",
              "        background-color: #E8F0FE;\n",
              "        border: none;\n",
              "        border-radius: 50%;\n",
              "        cursor: pointer;\n",
              "        display: none;\n",
              "        fill: #1967D2;\n",
              "        height: 32px;\n",
              "        padding: 0 0 0 0;\n",
              "        width: 32px;\n",
              "      }\n",
              "\n",
              "      .colab-df-generate:hover {\n",
              "        background-color: #E2EBFA;\n",
              "        box-shadow: 0px 1px 2px rgba(60, 64, 67, 0.3), 0px 1px 3px 1px rgba(60, 64, 67, 0.15);\n",
              "        fill: #174EA6;\n",
              "      }\n",
              "\n",
              "      [theme=dark] .colab-df-generate {\n",
              "        background-color: #3B4455;\n",
              "        fill: #D2E3FC;\n",
              "      }\n",
              "\n",
              "      [theme=dark] .colab-df-generate:hover {\n",
              "        background-color: #434B5C;\n",
              "        box-shadow: 0px 1px 3px 1px rgba(0, 0, 0, 0.15);\n",
              "        filter: drop-shadow(0px 1px 2px rgba(0, 0, 0, 0.3));\n",
              "        fill: #FFFFFF;\n",
              "      }\n",
              "    </style>\n",
              "    <button class=\"colab-df-generate\" onclick=\"generateWithVariable('bit_accuracy_df')\"\n",
              "            title=\"Generate code using this dataframe.\"\n",
              "            style=\"display:none;\">\n",
              "\n",
              "  <svg xmlns=\"http://www.w3.org/2000/svg\" height=\"24px\"viewBox=\"0 0 24 24\"\n",
              "       width=\"24px\">\n",
              "    <path d=\"M7,19H8.4L18.45,9,17,7.55,7,17.6ZM5,21V16.75L18.45,3.32a2,2,0,0,1,2.83,0l1.4,1.43a1.91,1.91,0,0,1,.58,1.4,1.91,1.91,0,0,1-.58,1.4L9.25,21ZM18.45,9,17,7.55Zm-12,3A5.31,5.31,0,0,0,4.9,8.1,5.31,5.31,0,0,0,1,6.5,5.31,5.31,0,0,0,4.9,4.9,5.31,5.31,0,0,0,6.5,1,5.31,5.31,0,0,0,8.1,4.9,5.31,5.31,0,0,0,12,6.5,5.46,5.46,0,0,0,6.5,12Z\"/>\n",
              "  </svg>\n",
              "    </button>\n",
              "    <script>\n",
              "      (() => {\n",
              "      const buttonEl =\n",
              "        document.querySelector('#id_392b4c73-fcb4-4c16-a136-b2b84509e353 button.colab-df-generate');\n",
              "      buttonEl.style.display =\n",
              "        google.colab.kernel.accessAllowed ? 'block' : 'none';\n",
              "\n",
              "      buttonEl.onclick = () => {\n",
              "        google.colab.notebook.generateWithVariable('bit_accuracy_df');\n",
              "      }\n",
              "      })();\n",
              "    </script>\n",
              "  </div>\n",
              "\n",
              "    </div>\n",
              "  </div>\n"
            ],
            "application/vnd.google.colaboratory.intrinsic+json": {
              "type": "dataframe",
              "variable_name": "bit_accuracy_df",
              "summary": "{\n  \"name\": \"bit_accuracy_df\",\n  \"rows\": 32,\n  \"fields\": [\n    {\n      \"column\": \"Bit Position\",\n      \"properties\": {\n        \"dtype\": \"number\",\n        \"std\": 9,\n        \"min\": 0,\n        \"max\": 31,\n        \"num_unique_values\": 32,\n        \"samples\": [\n          29,\n          15,\n          24\n        ],\n        \"semantic_type\": \"\",\n        \"description\": \"\"\n      }\n    },\n    {\n      \"column\": \"Accuracy\",\n      \"properties\": {\n        \"dtype\": \"number\",\n        \"std\": 0.0049343390249255515,\n        \"min\": 0.4901,\n        \"max\": 0.5156,\n        \"num_unique_values\": 31,\n        \"samples\": [\n          0.5,\n          0.4963,\n          0.4961\n        ],\n        \"semantic_type\": \"\",\n        \"description\": \"\"\n      }\n    }\n  ]\n}"
            }
          },
          "metadata": {}
        }
      ]
    },
    {
      "cell_type": "markdown",
      "metadata": {
        "id": "14bd00d0"
      },
      "source": [
        "## Summary:\n",
        "\n",
        "### Data Analysis Key Findings\n",
        "\n",
        "*   The training and validation accuracy were successfully plotted over epochs, showing the performance trend during training.\n",
        "*   The model's bit-wise accuracy on the test set varied across the 32 bit positions, ranging from approximately 0.4901 to 0.5156.\n",
        "*   The average bit-wise accuracy on the test set appears to be around 0.50, indicating that the model's prediction performance for individual bits is close to random chance for many positions.\n",
        "*   The bit-wise accuracy for each position was successfully displayed in a table format.\n",
        "\n",
        "### Insights or Next Steps\n",
        "\n",
        "*   The near-random bit-wise accuracy suggests the model is not effectively learning the patterns required to predict individual bits correctly. Further model architecture review, hyperparameter tuning, or feature engineering might be necessary.\n",
        "*   Investigating the distribution of the training data and target labels could provide insights into why the model struggles with predicting individual bits.\n"
      ],
      "id": "14bd00d0"
    }
  ],
  "metadata": {
    "kernelspec": {
      "display_name": "Python 3",
      "name": "python3"
    },
    "language_info": {
      "codemirror_mode": {
        "name": "ipython",
        "version": 3
      },
      "file_extension": ".py",
      "mimetype": "text/x-python",
      "name": "python",
      "nbconvert_exporter": "python",
      "pygments_lexer": "ipython3",
      "version": "3.11.9"
    },
    "colab": {
      "provenance": [],
      "gpuType": "T4",
      "include_colab_link": true
    },
    "accelerator": "GPU"
  },
  "nbformat": 4,
  "nbformat_minor": 5
}